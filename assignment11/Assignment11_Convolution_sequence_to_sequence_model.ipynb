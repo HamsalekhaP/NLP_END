{
  "nbformat": 4,
  "nbformat_minor": 0,
  "metadata": {
    "colab": {
      "name": "Assignment11-Convolution sequence to sequence model.ipynb",
      "provenance": [],
      "collapsed_sections": []
    },
    "kernelspec": {
      "name": "python3",
      "display_name": "Python 3"
    },
    "accelerator": "GPU"
  },
  "cells": [
    {
      "cell_type": "markdown",
      "metadata": {
        "id": "wXcUrPBaFZ4X"
      },
      "source": [
        "Convolution sequence to sequence model for German to English Translation\r\n",
        "\r\n",
        "We have previously seen RNN models for Sequence to sequence models. They suffer from vanishing/exploding gradient problems. Training and computation is also slow.\r\n",
        "\r\n",
        "This paper introduces the use of CNN for Machine Translation. This improves computation time as processing is done in parallel as against sequential processing in RNN. This has also proved to be more effective than RNN models.\r\n",
        "\r\n",
        "\r\n",
        "This notebook has the Implementation of [Convolutional Sequence to Sequence Learning](https://arxiv.org/pdf/1705.03122.pdf) paper\r\n",
        "# Convolutional Seq2Seq\r\n",
        "\r\n",
        "![](https://github.com/bentrevett/pytorch-seq2seq/raw/9479fcb532214ad26fd4bda9fcf081a05e1aaf4e/assets/convseq2seq0.png)\r\n",
        "\r\n"
      ]
    },
    {
      "cell_type": "code",
      "metadata": {
        "id": "5dJRZtnZbaRU"
      },
      "source": [
        "import torch\r\n",
        "import torch.nn as nn\r\n",
        "import torch.optim as optim\r\n",
        "import torch.nn.functional as F\r\n",
        "\r\n",
        "from torchtext.datasets import Multi30k\r\n",
        "from torchtext.data import Field, BucketIterator\r\n",
        "\r\n",
        "import matplotlib.pyplot as plt\r\n",
        "import matplotlib.ticker as ticker\r\n",
        "\r\n",
        "import spacy\r\n",
        "import numpy as np\r\n",
        "import random\r\n",
        "import time\r\n",
        "import math"
      ],
      "execution_count": null,
      "outputs": []
    },
    {
      "cell_type": "code",
      "metadata": {
        "id": "gqKVEy5BKuRC"
      },
      "source": [
        "SEED = 1234\r\n",
        "\r\n",
        "random.seed(SEED)\r\n",
        "torch.manual_seed(SEED)\r\n",
        "np.random.seed(SEED)\r\n",
        "torch.cuda.manual_seed(SEED)\r\n",
        "torch.backends.cudnn.deterministic = True"
      ],
      "execution_count": null,
      "outputs": []
    },
    {
      "cell_type": "code",
      "metadata": {
        "id": "cGOIkDZbLv42"
      },
      "source": [
        "!python -m spacy download en\r\n",
        "!python -m spacy download de"
      ],
      "execution_count": null,
      "outputs": []
    },
    {
      "cell_type": "code",
      "metadata": {
        "id": "W37pFjpBLCLN"
      },
      "source": [
        "spacy_de = spacy.load('de')\r\n",
        "spacy_en = spacy.load('en')"
      ],
      "execution_count": null,
      "outputs": []
    },
    {
      "cell_type": "code",
      "metadata": {
        "id": "qSyB10kpLLlB"
      },
      "source": [
        "def tokenize_de(text):\r\n",
        "  \"\"\"Tokenize German text from a string into a list of tokens\"\"\"\r\n",
        "  return [tok.text for tok in spacy_de.tokenizer(text)]\r\n",
        "\r\n",
        "def tokenize_en(text):\r\n",
        "  \"\"\"Tokenize English text from a string into a list of tokens\"\"\"\r\n",
        "  return [tok.text for tok in spacy_en.tokenizer(text)]"
      ],
      "execution_count": null,
      "outputs": []
    },
    {
      "cell_type": "code",
      "metadata": {
        "id": "krw6BwlCLrNf"
      },
      "source": [
        "# Create tokenised list for both German and English\r\n",
        "SRC = Field(tokenize = tokenize_de,\r\n",
        "            init_token = '<sos>',\r\n",
        "            eos_token = '<eos>',\r\n",
        "            lower = True,\r\n",
        "            batch_first = True)\r\n",
        "\r\n",
        "\r\n",
        "TRG = Field(tokenize = tokenize_en,\r\n",
        "            init_token = '<sos>',\r\n",
        "            eos_token = '<eos>',\r\n",
        "            lower = True,\r\n",
        "            batch_first = True)"
      ],
      "execution_count": null,
      "outputs": []
    },
    {
      "cell_type": "code",
      "metadata": {
        "colab": {
          "base_uri": "https://localhost:8080/"
        },
        "id": "b4Kh8NuNRDXk",
        "outputId": "c9e0388f-ab87-44a2-84b0-ac89d09d612f"
      },
      "source": [
        "print(vars((SRC)))"
      ],
      "execution_count": null,
      "outputs": [
        {
          "output_type": "stream",
          "text": [
            "{'sequential': True, 'use_vocab': True, 'init_token': '<sos>', 'eos_token': '<eos>', 'unk_token': '<unk>', 'fix_length': None, 'dtype': torch.int64, 'preprocessing': None, 'postprocessing': None, 'lower': True, 'tokenize': <function tokenize_de at 0x7f52f324e8c8>, 'include_lengths': False, 'batch_first': True, 'pad_token': '<pad>', 'pad_first': False, 'truncate_first': False, 'stop_words': None, 'is_target': False}\n"
          ],
          "name": "stdout"
        }
      ]
    },
    {
      "cell_type": "code",
      "metadata": {
        "colab": {
          "base_uri": "https://localhost:8080/"
        },
        "id": "G3E7TVenPOJ2",
        "outputId": "45849319-9336-48bb-8415-46adf4c589df"
      },
      "source": [
        "# Create train, validation and test set partitions\r\n",
        "train_data, valid_data, test_data = Multi30k.splits(exts = ('.de','.en'),\r\n",
        "                fields = (SRC,TRG))\r\n"
      ],
      "execution_count": null,
      "outputs": [
        {
          "output_type": "stream",
          "text": [
            "downloading training.tar.gz\n"
          ],
          "name": "stdout"
        },
        {
          "output_type": "stream",
          "text": [
            "training.tar.gz: 100%|██████████| 1.21M/1.21M [00:02<00:00, 536kB/s]\n"
          ],
          "name": "stderr"
        },
        {
          "output_type": "stream",
          "text": [
            "downloading validation.tar.gz\n"
          ],
          "name": "stdout"
        },
        {
          "output_type": "stream",
          "text": [
            "validation.tar.gz: 100%|██████████| 46.3k/46.3k [00:00<00:00, 170kB/s]\n"
          ],
          "name": "stderr"
        },
        {
          "output_type": "stream",
          "text": [
            "downloading mmt_task1_test2016.tar.gz\n"
          ],
          "name": "stdout"
        },
        {
          "output_type": "stream",
          "text": [
            "mmt_task1_test2016.tar.gz: 100%|██████████| 66.2k/66.2k [00:00<00:00, 162kB/s]\n"
          ],
          "name": "stderr"
        }
      ]
    },
    {
      "cell_type": "code",
      "metadata": {
        "colab": {
          "base_uri": "https://localhost:8080/"
        },
        "id": "bsZwruKEQc_z",
        "outputId": "ab589d73-d267-4b02-b0bb-51f864e32f87"
      },
      "source": [
        "for i in train_data:\r\n",
        "  print(i.src)\r\n",
        "  print(i.trg)\r\n",
        "  break"
      ],
      "execution_count": null,
      "outputs": [
        {
          "output_type": "stream",
          "text": [
            "['zwei', 'junge', 'weiße', 'männer', 'sind', 'im', 'freien', 'in', 'der', 'nähe', 'vieler', 'büsche', '.']\n",
            "['two', 'young', ',', 'white', 'males', 'are', 'outside', 'near', 'many', 'bushes', '.']\n"
          ],
          "name": "stdout"
        }
      ]
    },
    {
      "cell_type": "code",
      "metadata": {
        "id": "yJV2ZeeHPwc3"
      },
      "source": [
        "SRC.build_vocab(train_data, min_freq = 2)\r\n",
        "\r\n",
        "TRG.build_vocab(train_data, min_freq = 2)"
      ],
      "execution_count": null,
      "outputs": []
    },
    {
      "cell_type": "code",
      "metadata": {
        "id": "rKf1h30RP7es"
      },
      "source": [
        "device = torch.device('cuda' if torch.cuda.is_available() else 'cpu')"
      ],
      "execution_count": null,
      "outputs": []
    },
    {
      "cell_type": "code",
      "metadata": {
        "id": "rgC8kqXoQF0T"
      },
      "source": [
        "BATCH_SIZE = 128\r\n",
        "\r\n",
        "# numericalize the tokens and create iterators\r\n",
        "train_iterator, valid_iterator, test_iterator = BucketIterator.splits(\r\n",
        "    (train_data, valid_data, test_data), \r\n",
        "     batch_size = BATCH_SIZE,\r\n",
        "     device = device)"
      ],
      "execution_count": null,
      "outputs": []
    },
    {
      "cell_type": "code",
      "metadata": {
        "colab": {
          "base_uri": "https://localhost:8080/"
        },
        "id": "KhSJKhgWQfZ0",
        "outputId": "5a3bc550-2eb7-418b-803a-e6f0a033d928"
      },
      "source": [
        "for i in train_iterator:\r\n",
        "  print(i.src)\r\n",
        "  print(i.trg)\r\n",
        "  break"
      ],
      "execution_count": null,
      "outputs": [
        {
          "output_type": "stream",
          "text": [
            "tensor([[   2,    8,   16,  ...,    1,    1,    1],\n",
            "        [   2,   54, 1552,  ...,    1,    1,    1],\n",
            "        [   2,    5,  717,  ...,    1,    1,    1],\n",
            "        ...,\n",
            "        [   2,    8,   36,  ...,    1,    1,    1],\n",
            "        [   2,    5,   13,  ...,    1,    1,    1],\n",
            "        [   2,    5,   13,  ...,    1,    1,    1]], device='cuda:0')\n",
            "tensor([[   2,   14,   13,  ...,    1,    1,    1],\n",
            "        [   2,   19, 1693,  ...,    1,    1,    1],\n",
            "        [   2,    4,  192,  ...,    1,    1,    1],\n",
            "        ...,\n",
            "        [   2,    4,   38,  ...,    1,    1,    1],\n",
            "        [   2,    4,    9,  ...,    1,    1,    1],\n",
            "        [   2,    9,   22,  ...,    1,    1,    1]], device='cuda:0')\n"
          ],
          "name": "stdout"
        }
      ]
    },
    {
      "cell_type": "markdown",
      "metadata": {
        "id": "dGkWQIi3RVU-"
      },
      "source": [
        "## Encoder\r\n",
        "\r\n",
        "Points to note:\r\n",
        "\r\n",
        "Pad samples with start and end tokens. Feed it to embedding layer to get embedding of specified size. \r\n",
        "A linear layer translates to specific dimensions to the convolution block.\r\n",
        "This is padded on both size to maintain convolution output size. GLU is used as activation function. This halves output dimensions, hece double the dimensions in the convolution layer.\r\n",
        "\r\n",
        "Residual connections are created by combining the embedding layer output and the output from another linear layer to form a \"combined\" output.\r\n",
        "\r\n",
        "\r\n",
        "## Convolutional Blocks\r\n",
        "\r\n",
        "![](https://github.com/bentrevett/pytorch-seq2seq/raw/9479fcb532214ad26fd4bda9fcf081a05e1aaf4e/assets/convseq2seq1.png)\r\n",
        "\r\n",
        "\r\n",
        "![](https://raw.githubusercontent.com/bentrevett/pytorch-seq2seq/9479fcb532214ad26fd4bda9fcf081a05e1aaf4e/assets/convseq2seq2.png)\r\n",
        "\r\n"
      ]
    },
    {
      "cell_type": "code",
      "metadata": {
        "id": "KgNJ_GyORN2d"
      },
      "source": [
        "class Encoder(nn.Module):\r\n",
        "  def __init__(self, \r\n",
        "                 input_dim, \r\n",
        "                 emb_dim, \r\n",
        "                 hid_dim, \r\n",
        "                 n_layers, \r\n",
        "                 kernel_size, \r\n",
        "                 dropout, \r\n",
        "                 device,\r\n",
        "                 max_length = 100\r\n",
        "               ):\r\n",
        "    super().__init__()\r\n",
        "\r\n",
        "    assert kernel_size %2, 'kernel size must be odd'\r\n",
        "    self.device = device\r\n",
        "        \r\n",
        "    self.scale = torch.sqrt(torch.FloatTensor([0.5])).to(device)\r\n",
        "    self.tok_embedding = nn.Embedding(input_dim, emb_dim)\r\n",
        "    self.pos_embedding = nn.Embedding(max_length, emb_dim )\r\n",
        "\r\n",
        "    self.emb2hid = nn.Linear(emb_dim, hid_dim)\r\n",
        "    self.convs = nn.ModuleList([\r\n",
        "                                nn.Conv1d(in_channels = hid_dim,\r\n",
        "                                          out_channels = 2 * hid_dim,\r\n",
        "                                          kernel_size=  kernel_size,\r\n",
        "                                          padding = (kernel_size -1) //2\r\n",
        "                                          ) \r\n",
        "                                for _ in range(n_layers)\r\n",
        "    ])\r\n",
        "    self.hid2emb = nn.Linear(hid_dim, emb_dim)\r\n",
        "    self.dropout = nn.Dropout(dropout)\r\n",
        "\r\n",
        "  def forward(self, src):\r\n",
        "    src_len = src.shape[1]\r\n",
        "    batch_size = src.shape[0]\r\n",
        "    pos = torch.arange(0, src_len).unsqueeze(0).repeat(batch_size, 1).to(self.device)\r\n",
        "    tok_embedding = self.tok_embedding(src)\r\n",
        "    # for batch\r\n",
        "    pos_embedding = self.pos_embedding(pos)\r\n",
        "\r\n",
        "    embedded = self.dropout(tok_embedding + pos_embedding)\r\n",
        "    conv_input = self.emb2hid(embedded)\r\n",
        "    # conv_input = [batch_size, src_len, hid dim]\r\n",
        "\r\n",
        "    conv_input = conv_input.permute(0,2,1)\r\n",
        "    # conv_input = [batch_size, hid dim, src_len]\r\n",
        "    for i, conv in enumerate(self.convs):\r\n",
        "      conved = conv(self.dropout(conv_input))\r\n",
        "      # conved = [batch_size, 2* hid_dim, src_len]\r\n",
        "      conved = F.glu(conved, dim = 1)\r\n",
        "      # conved = [batch_size, hid_dim, src_len]\r\n",
        "      # this addition introduces sudden increase in gradient due to sudden increase in amplitude. So Scale this\r\n",
        "      conved = (conved + conv_input) * self.scale\r\n",
        "      conv_input = conved\r\n",
        "    \r\n",
        "    conved = self.hid2emb(conved.permute(0,2,1))\r\n",
        "    combined = (conved + embedded) * self.scale\r\n",
        "\r\n",
        "    return conved, combined\r\n",
        "\r\n",
        "\r\n"
      ],
      "execution_count": null,
      "outputs": []
    },
    {
      "cell_type": "markdown",
      "metadata": {
        "id": "82qFmsA8wuSq"
      },
      "source": [
        "## Decoder \r\n",
        "\r\n",
        "![](https://raw.githubusercontent.com/bentrevett/pytorch-seq2seq/9479fcb532214ad26fd4bda9fcf081a05e1aaf4e/assets/convseq2seq3.png)\r\n",
        "\r\n",
        "Decoder input before the convolution block is same as encoder\r\n",
        "\r\n",
        "## Decoder Conv Blocks\r\n",
        "\r\n",
        "![](https://raw.githubusercontent.com/bentrevett/pytorch-seq2seq/9479fcb532214ad26fd4bda9fcf081a05e1aaf4e/assets/convseq2seq4.png)\r\n",
        "\r\n",
        "In the convolution block, the inputs are padded differently. (kernel_size-1) padding is applied to the beginning of the input. This is to ensure that the kernel looks at only the current work to predict the next word. For example, in the figure, the kernel looks at <sos> to predict the next word \"two\". Also, this is the case with training, but during test time, you will never know the next word until you predict it.\r\n",
        "\r\n",
        "\r\n",
        "## Incorrect Padding\r\n",
        "![](https://raw.githubusercontent.com/bentrevett/pytorch-seq2seq/9479fcb532214ad26fd4bda9fcf081a05e1aaf4e/assets/convseq2seq5.png)"
      ]
    },
    {
      "cell_type": "code",
      "metadata": {
        "id": "Rgovc1OWv5Jl"
      },
      "source": [
        "class Decoder(nn.Module):\r\n",
        "    def __init__(self, \r\n",
        "                 output_dim, \r\n",
        "                 emb_dim, \r\n",
        "                 hid_dim, \r\n",
        "                 n_layers, \r\n",
        "                 kernel_size, \r\n",
        "                 dropout, \r\n",
        "                 trg_pad_idx, \r\n",
        "                 device,\r\n",
        "                 max_length = 100):\r\n",
        "        super().__init__()\r\n",
        "        \r\n",
        "        self.kernel_size = kernel_size\r\n",
        "        self.trg_pad_idx = trg_pad_idx\r\n",
        "        self.device = device\r\n",
        "        \r\n",
        "        self.scale = torch.sqrt(torch.FloatTensor([0.5])).to(device)\r\n",
        "        \r\n",
        "        self.tok_embedding = nn.Embedding(output_dim, emb_dim)\r\n",
        "        self.pos_embedding = nn.Embedding(max_length, emb_dim)\r\n",
        "        \r\n",
        "        self.emb2hid = nn.Linear(emb_dim, hid_dim)\r\n",
        "        self.hid2emb = nn.Linear(hid_dim, emb_dim)\r\n",
        "        \r\n",
        "        self.attn_hid2emb = nn.Linear(hid_dim, emb_dim)\r\n",
        "        self.attn_emb2hid = nn.Linear(emb_dim, hid_dim)\r\n",
        "        \r\n",
        "        self.fc_out = nn.Linear(emb_dim, output_dim)\r\n",
        "        \r\n",
        "        self.convs = nn.ModuleList([nn.Conv1d(in_channels = hid_dim, \r\n",
        "                                              out_channels = 2 * hid_dim, \r\n",
        "                                              kernel_size = kernel_size)\r\n",
        "                                    for _ in range(n_layers)])\r\n",
        "        \r\n",
        "        self.dropout = nn.Dropout(dropout)\r\n",
        "      \r\n",
        "    def calculate_attention(self, embedded, conved, encoder_conved, encoder_combined):\r\n",
        "        \r\n",
        "        #embedded = [batch size, trg len, emb dim]\r\n",
        "        #conved = [batch size, hid dim, trg len]\r\n",
        "        #encoder_conved = encoder_combined = [batch size, src len, emb dim]\r\n",
        "        \r\n",
        "        #permute and convert back to emb dim\r\n",
        "        conved_emb = self.attn_hid2emb(conved.permute(0, 2, 1))\r\n",
        "        \r\n",
        "        #conved_emb = [batch size, trg len, emb dim]\r\n",
        "        \r\n",
        "        combined = (conved_emb + embedded) * self.scale\r\n",
        "        \r\n",
        "        #combined = [batch size, trg len, emb dim]\r\n",
        "                \r\n",
        "        energy = torch.matmul(combined, encoder_conved.permute(0, 2, 1))\r\n",
        "        \r\n",
        "        #energy = [batch size, trg len, src len]\r\n",
        "        \r\n",
        "        attention = F.softmax(energy, dim=2)\r\n",
        "        \r\n",
        "        #attention = [batch size, trg len, src len]\r\n",
        "            \r\n",
        "        attended_encoding = torch.matmul(attention, encoder_combined)\r\n",
        "        \r\n",
        "        #attended_encoding = [batch size, trg len, emd dim]\r\n",
        "        \r\n",
        "        #convert from emb dim -> hid dim\r\n",
        "        attended_encoding = self.attn_emb2hid(attended_encoding)\r\n",
        "        \r\n",
        "        #attended_encoding = [batch size, trg len, hid dim]\r\n",
        "        \r\n",
        "        #apply residual connection\r\n",
        "        attended_combined = (conved + attended_encoding.permute(0, 2, 1)) * self.scale\r\n",
        "        \r\n",
        "        #attended_combined = [batch size, hid dim, trg len]\r\n",
        "        \r\n",
        "        return attention, attended_combined\r\n",
        "        \r\n",
        "\r\n",
        "\r\n",
        "    def forward(self, trg, encoder_conved, encoder_combined):\r\n",
        "        \r\n",
        "        #trg = [batch size, trg len]\r\n",
        "        #encoder_conved = encoder_combined = [batch size, src len, emb dim]\r\n",
        "                \r\n",
        "        batch_size = trg.shape[0]\r\n",
        "        trg_len = trg.shape[1]\r\n",
        "            \r\n",
        "        #create position tensor\r\n",
        "        pos = torch.arange(0, trg_len).unsqueeze(0).repeat(batch_size, 1).to(self.device)\r\n",
        "        \r\n",
        "        #pos = [batch size, trg len]\r\n",
        "        \r\n",
        "        #embed tokens and positions\r\n",
        "        tok_embedded = self.tok_embedding(trg)\r\n",
        "        pos_embedded = self.pos_embedding(pos)\r\n",
        "        \r\n",
        "        #tok_embedded = [batch size, trg len, emb dim]\r\n",
        "        #pos_embedded = [batch size, trg len, emb dim]\r\n",
        "        \r\n",
        "        #combine embeddings by elementwise summing\r\n",
        "        embedded = self.dropout(tok_embedded + pos_embedded)\r\n",
        "        \r\n",
        "        #embedded = [batch size, trg len, emb dim]\r\n",
        "        \r\n",
        "        #pass embedded through linear layer to go through emb dim -> hid dim\r\n",
        "        conv_input = self.emb2hid(embedded)\r\n",
        "        \r\n",
        "        #conv_input = [batch size, trg len, hid dim]\r\n",
        "        \r\n",
        "        #permute for convolutional layer\r\n",
        "        conv_input = conv_input.permute(0, 2, 1) \r\n",
        "        \r\n",
        "        #conv_input = [batch size, hid dim, trg len]\r\n",
        "        \r\n",
        "        batch_size = conv_input.shape[0]\r\n",
        "        hid_dim = conv_input.shape[1]\r\n",
        "        \r\n",
        "        for i, conv in enumerate(self.convs):\r\n",
        "        \r\n",
        "            #apply dropout\r\n",
        "            conv_input = self.dropout(conv_input)\r\n",
        "        \r\n",
        "            #need to pad so decoder can't \"cheat\"\r\n",
        "            padding = torch.zeros(batch_size, \r\n",
        "                                  hid_dim, \r\n",
        "                                  self.kernel_size - 1).fill_(self.trg_pad_idx).to(self.device)\r\n",
        "\r\n",
        "            padded_conv_input = torch.cat((padding, conv_input), dim = 2)\r\n",
        "            #padded_conv_input = [batch size, hid dim, trg len + kernel size - 1]\r\n",
        "        \r\n",
        "            #pass through convolutional layer\r\n",
        "            conved = conv(padded_conv_input)\r\n",
        "\r\n",
        "            #conved = [batch size, 2 * hid dim, trg len]\r\n",
        "            \r\n",
        "            #pass through GLU activation function\r\n",
        "            conved = F.glu(conved, dim = 1)\r\n",
        "\r\n",
        "            #conved = [batch size, hid dim, trg len]\r\n",
        "            \r\n",
        "            #calculate attention\r\n",
        "            attention, conved = self.calculate_attention(embedded, \r\n",
        "                                                         conved, \r\n",
        "                                                         encoder_conved, \r\n",
        "                                                         encoder_combined)\r\n",
        "            \r\n",
        "            #attention = [batch size, trg len, src len]\r\n",
        "            \r\n",
        "            #apply residual connection\r\n",
        "            conved = (conved + conv_input) * self.scale\r\n",
        "            \r\n",
        "            #conved = [batch size, hid dim, trg len]\r\n",
        "            \r\n",
        "            #set conv_input to conved for next loop iteration\r\n",
        "            conv_input = conved\r\n",
        "            \r\n",
        "        conved = self.hid2emb(conved.permute(0, 2, 1))\r\n",
        "         \r\n",
        "        #conved = [batch size, trg len, emb dim]\r\n",
        "            \r\n",
        "        output = self.fc_out(self.dropout(conved))\r\n",
        "        \r\n",
        "        #output = [batch size, trg len, output dim]\r\n",
        "            \r\n",
        "        return output, attention"
      ],
      "execution_count": null,
      "outputs": []
    },
    {
      "cell_type": "code",
      "metadata": {
        "id": "3Ah_6wr5BdK8"
      },
      "source": [
        "class Seq2Seq(nn.Module):\r\n",
        "  def __init__(self, encoder,decoder):\r\n",
        "    super().__init__()\r\n",
        "    self.encoder = encoder\r\n",
        "    self.decoder = decoder\r\n",
        "  \r\n",
        "  def forward(self, src, trg):\r\n",
        "    #src = [batch size, src len]\r\n",
        "    #trg = [batch size, trg len - 1] (<eos> token sliced off the end)\r\n",
        "    #calculate z^u (encoder_conved) and (z^u + e) (encoder_combined)\r\n",
        "    #encoder_conved is output from final encoder conv. block\r\n",
        "    #encoder_combined is encoder_conved plus (elementwise) src embedding plus \r\n",
        "    #  positional embeddings \r\n",
        "    encoder_conved, encoder_combined = self.encoder(src)\r\n",
        "\r\n",
        "    #encoder_conved = [batch size, src len, emb dim]\r\n",
        "    #encoder_combined = [batch size, src len, emb dim]\r\n",
        "    \r\n",
        "    #calculate predictions of next words\r\n",
        "    #output is a batch of predictions for each word in the trg sentence\r\n",
        "    #attention a batch of attention scores across the src sentence for \r\n",
        "    #  each word in the trg sentence\r\n",
        "\r\n",
        "    \r\n",
        "    output, attention = self.decoder(trg, encoder_conved, encoder_combined)\r\n",
        "    #output = [batch size, trg len - 1, output dim]\r\n",
        "    #attention = [batch size, trg len - 1, src len]\r\n",
        "    return output, attention"
      ],
      "execution_count": null,
      "outputs": []
    },
    {
      "cell_type": "code",
      "metadata": {
        "id": "NuCW1V3AFBhw"
      },
      "source": [
        "INPUT_DIM = len(SRC.vocab)\r\n",
        "OUTPUT_DIM = len(TRG.vocab)\r\n",
        "EMB_DIM = 256\r\n",
        "HID_DIM = 512 # each conv. layer has 2 * hid_dim filters\r\n",
        "ENC_LAYERS = 10 # number of conv. blocks in encoder\r\n",
        "DEC_LAYERS = 10 # number of conv. blocks in decoder\r\n",
        "ENC_KERNEL_SIZE = 3 # must be odd!\r\n",
        "DEC_KERNEL_SIZE = 3 # can be even or odd\r\n",
        "ENC_DROPOUT = 0.25\r\n",
        "DEC_DROPOUT = 0.25\r\n",
        "TRG_PAD_IDX = TRG.vocab.stoi[TRG.pad_token]\r\n",
        "    \r\n",
        "enc = Encoder(INPUT_DIM, EMB_DIM, HID_DIM, ENC_LAYERS, ENC_KERNEL_SIZE, ENC_DROPOUT, device)\r\n",
        "dec = Decoder(OUTPUT_DIM, EMB_DIM, HID_DIM, DEC_LAYERS, DEC_KERNEL_SIZE, DEC_DROPOUT, TRG_PAD_IDX, device)\r\n",
        "\r\n",
        "model = Seq2Seq(enc, dec).to(device)"
      ],
      "execution_count": null,
      "outputs": []
    },
    {
      "cell_type": "code",
      "metadata": {
        "colab": {
          "base_uri": "https://localhost:8080/"
        },
        "id": "KTK54LtqFV14",
        "outputId": "3b822e17-ecad-4118-9ea7-65abb36956c9"
      },
      "source": [
        "def count_parameters(model):\r\n",
        "    return sum(p.numel() for p in model.parameters() if p.requires_grad)\r\n",
        "\r\n",
        "print(f'The model has {count_parameters(model):,} trainable parameters')"
      ],
      "execution_count": null,
      "outputs": [
        {
          "output_type": "stream",
          "text": [
            "The model has 37,351,685 trainable parameters\n"
          ],
          "name": "stdout"
        }
      ]
    },
    {
      "cell_type": "code",
      "metadata": {
        "id": "GX94isTKFZBD"
      },
      "source": [
        "optimizer = optim.Adam(model.parameters())\r\n",
        "criterion = nn.CrossEntropyLoss(ignore_index = TRG_PAD_IDX)"
      ],
      "execution_count": null,
      "outputs": []
    },
    {
      "cell_type": "markdown",
      "metadata": {
        "id": "XINP9s74BAfZ"
      },
      "source": [
        "Then, we define the training loop for the model.\r\n",
        "\r\n",
        "We handle the sequences a little differently than previous tutorials. For all models we never put the <eos> into the decoder. This is handled in the RNN models by the having the decoder loop not reach having the <eos> as an input to the decoder. In this model, we simply slice the <eos> token off the end of the sequence. Thus:\r\n",
        "\r\n",
        "$$\\begin{align*}\r\n",
        "\\text{trg} &amp;= [sos, x_1, x_2, x_3, eos]\\\\\r\n",
        "\\text{trg[:-1]} &amp;= [sos, x_1, x_2, x_3]\r\n",
        "\\end{align*}$$\r\n",
        "$x_i$ denotes actual target sequence element. We then feed this into the model to get a predicted sequence that should hopefully predict the <eos> token:\r\n",
        "\r\n",
        "$$\\begin{align*}\r\n",
        "\\text{output} &amp;= [y_1, y_2, y_3, eos]\r\n",
        "\\end{align*}$$\r\n",
        "$y_i$ denotes predicted target sequence element. We then calculate our loss using the original trg tensor with the <sos> token sliced off the front, leaving the <eos> token:\r\n",
        "\r\n",
        "$$\\begin{align*}\r\n",
        "\\text{output} &amp;= [y_1, y_2, y_3, eos]\\\\\r\n",
        "\\text{trg[1:]} &amp;= [x_1, x_2, x_3, eos]\r\n",
        "\\end{align*}$$\r\n",
        "We then calculate our losses and update our parameters as is standard."
      ]
    },
    {
      "cell_type": "code",
      "metadata": {
        "id": "aSx8fIUNFd_j"
      },
      "source": [
        "def train(model, iterator, optimizer, criterion, clip):\r\n",
        "    \r\n",
        "    model.train()\r\n",
        "    \r\n",
        "    epoch_loss = 0\r\n",
        "    \r\n",
        "    for i, batch in enumerate(iterator):\r\n",
        "        \r\n",
        "        src = batch.src\r\n",
        "        trg = batch.trg\r\n",
        "        \r\n",
        "        optimizer.zero_grad()\r\n",
        "        # string eos for target\r\n",
        "        output, _ = model(src, trg[:,:-1])\r\n",
        "        \r\n",
        "        #output = [batch size, trg len - 1, output dim]\r\n",
        "        #trg = [batch size, trg len]\r\n",
        "        \r\n",
        "        output_dim = output.shape[-1]\r\n",
        "        \r\n",
        "        output = output.contiguous().view(-1, output_dim)\r\n",
        "        trg = trg[:,1:].contiguous().view(-1)\r\n",
        "        \r\n",
        "        #output = [batch size * trg len - 1, output dim]\r\n",
        "        #trg = [batch size * trg len - 1]\r\n",
        "        \r\n",
        "        loss = criterion(output, trg)\r\n",
        "        \r\n",
        "        loss.backward()\r\n",
        "        \r\n",
        "        torch.nn.utils.clip_grad_norm_(model.parameters(), clip)\r\n",
        "        \r\n",
        "        optimizer.step()\r\n",
        "        \r\n",
        "        epoch_loss += loss.item()\r\n",
        "        \r\n",
        "    return epoch_loss / len(iterator)"
      ],
      "execution_count": null,
      "outputs": []
    },
    {
      "cell_type": "code",
      "metadata": {
        "id": "cbubjFUKF4iq"
      },
      "source": [
        "def evaluate(model, iterator, criterion):\r\n",
        "    \r\n",
        "    model.eval()\r\n",
        "    \r\n",
        "    epoch_loss = 0\r\n",
        "    \r\n",
        "    with torch.no_grad():\r\n",
        "    \r\n",
        "        for i, batch in enumerate(iterator):\r\n",
        "\r\n",
        "            src = batch.src\r\n",
        "            trg = batch.trg\r\n",
        "\r\n",
        "            output, _ = model(src, trg[:,:-1])\r\n",
        "        \r\n",
        "            #output = [batch size, trg len - 1, output dim]\r\n",
        "            #trg = [batch size, trg len]\r\n",
        "\r\n",
        "            output_dim = output.shape[-1]\r\n",
        "            \r\n",
        "            output = output.contiguous().view(-1, output_dim)\r\n",
        "            trg = trg[:,1:].contiguous().view(-1)\r\n",
        "\r\n",
        "            #output = [batch size * trg len - 1, output dim]\r\n",
        "            #trg = [batch size * trg len - 1]\r\n",
        "            \r\n",
        "            loss = criterion(output, trg)\r\n",
        "\r\n",
        "            epoch_loss += loss.item()\r\n",
        "        \r\n",
        "    return epoch_loss / len(iterator)"
      ],
      "execution_count": null,
      "outputs": []
    },
    {
      "cell_type": "code",
      "metadata": {
        "id": "1diwyiriF7PA"
      },
      "source": [
        "def epoch_time(start_time, end_time):\r\n",
        "    elapsed_time = end_time - start_time\r\n",
        "    elapsed_mins = int(elapsed_time / 60)\r\n",
        "    elapsed_secs = int(elapsed_time - (elapsed_mins * 60))\r\n",
        "    return elapsed_mins, elapsed_secs"
      ],
      "execution_count": null,
      "outputs": []
    },
    {
      "cell_type": "code",
      "metadata": {
        "colab": {
          "base_uri": "https://localhost:8080/"
        },
        "id": "I7BhFOZ1Gyn8",
        "outputId": "09ed6b57-c0d2-46e2-a701-4e2c21ada0c6"
      },
      "source": [
        "N_EPOCHS = 10\r\n",
        "CLIP = 0.1\r\n",
        "\r\n",
        "best_valid_loss = float('inf')\r\n",
        "\r\n",
        "for epoch in range(N_EPOCHS):\r\n",
        "    \r\n",
        "    start_time = time.time()\r\n",
        "    \r\n",
        "    train_loss = train(model, train_iterator, optimizer, criterion, CLIP)\r\n",
        "    valid_loss = evaluate(model, valid_iterator, criterion)\r\n",
        "    \r\n",
        "    end_time = time.time()\r\n",
        "    \r\n",
        "    epoch_mins, epoch_secs = epoch_time(start_time, end_time)\r\n",
        "    \r\n",
        "    if valid_loss < best_valid_loss:\r\n",
        "        best_valid_loss = valid_loss\r\n",
        "        torch.save(model.state_dict(), 'cnn-s2s-model.pt')\r\n",
        "    \r\n",
        "    print(f'Epoch: {epoch+1:02} | Time: {epoch_mins}m {epoch_secs}s')\r\n",
        "    print(f'\\tTrain Loss: {train_loss} | Train PPL: {math.exp(train_loss)}')\r\n",
        "    print(f'\\t Val. Loss: {valid_loss} |  Val. PPL: {math.exp(valid_loss)}')"
      ],
      "execution_count": null,
      "outputs": [
        {
          "output_type": "stream",
          "text": [
            "Epoch: 01 | Time: 1m 1s\n",
            "\tTrain Loss: 4.422773993487925 | Train PPL: 83.32711392324696\n",
            "\t Val. Loss: 3.2838521897792816 |  Val. PPL: 26.678345057095623\n",
            "Epoch: 02 | Time: 1m 5s\n",
            "\tTrain Loss: 3.1909865755341653 | Train PPL: 24.312401635604584\n",
            "\t Val. Loss: 2.4409987330436707 |  Val. PPL: 11.48450497159517\n",
            "Epoch: 03 | Time: 1m 5s\n",
            "\tTrain Loss: 2.6840327321695336 | Train PPL: 14.644029828563028\n",
            "\t Val. Loss: 2.158005118370056 |  Val. PPL: 8.653857007395327\n",
            "Epoch: 04 | Time: 1m 4s\n",
            "\tTrain Loss: 2.4297406358340763 | Train PPL: 11.355936375046618\n",
            "\t Val. Loss: 2.0100559443235397 |  Val. PPL: 7.463734889238993\n",
            "Epoch: 05 | Time: 1m 5s\n",
            "\tTrain Loss: 2.2686150021490024 | Train PPL: 9.666004144067468\n",
            "\t Val. Loss: 1.927035853266716 |  Val. PPL: 6.8691189586122805\n",
            "Epoch: 06 | Time: 1m 5s\n",
            "\tTrain Loss: 2.1519857261674518 | Train PPL: 8.601922511863428\n",
            "\t Val. Loss: 1.8758232593536377 |  Val. PPL: 6.526189656032853\n",
            "Epoch: 07 | Time: 1m 5s\n",
            "\tTrain Loss: 2.063491407470031 | Train PPL: 7.873411164522693\n",
            "\t Val. Loss: 1.8188984990119934 |  Val. PPL: 6.165063884500401\n",
            "Epoch: 08 | Time: 1m 5s\n",
            "\tTrain Loss: 1.991696150817535 | Train PPL: 7.327952539963822\n",
            "\t Val. Loss: 1.7995874285697937 |  Val. PPL: 6.047152067506441\n",
            "Epoch: 09 | Time: 1m 5s\n",
            "\tTrain Loss: 1.9372322638129347 | Train PPL: 6.9395176124676405\n",
            "\t Val. Loss: 1.7800419479608536 |  Val. PPL: 5.930105169193314\n",
            "Epoch: 10 | Time: 1m 5s\n",
            "\tTrain Loss: 1.8887830521041602 | Train PPL: 6.611318153784541\n",
            "\t Val. Loss: 1.7616382092237473 |  Val. PPL: 5.821967186720108\n"
          ],
          "name": "stdout"
        }
      ]
    },
    {
      "cell_type": "code",
      "metadata": {
        "colab": {
          "base_uri": "https://localhost:8080/"
        },
        "id": "Ss_LgYn2Gi32",
        "outputId": "ea65710e-99ea-42b6-973e-2d962e05e648"
      },
      "source": [
        "model.load_state_dict(torch.load('cnn-s2s-model.pt'))\r\n",
        "\r\n",
        "test_loss = evaluate(model, test_iterator, criterion)\r\n",
        "\r\n",
        "print(f'| Test Loss: {test_loss:.3f} | Test PPL: {math.exp(test_loss):7.3f} |')"
      ],
      "execution_count": null,
      "outputs": [
        {
          "output_type": "stream",
          "text": [
            "| Test Loss: 1.815 | Test PPL:   6.144 |\n"
          ],
          "name": "stdout"
        }
      ]
    },
    {
      "cell_type": "markdown",
      "metadata": {
        "id": "whGSL-pYta8A"
      },
      "source": [
        "During inference, the decoder is run in a loop, predicting one word at a time, appending the predicted word to the next iteration's input."
      ]
    },
    {
      "cell_type": "code",
      "metadata": {
        "id": "l2GtRqZ0G4dA"
      },
      "source": [
        "def translate_sentence(sentence, src_field, trg_field, model, device, max_len = 50):\r\n",
        "\r\n",
        "    model.eval()\r\n",
        "        \r\n",
        "    if isinstance(sentence, str):\r\n",
        "        nlp = spacy.load('de')\r\n",
        "        tokens = [token.text.lower() for token in nlp(sentence)]\r\n",
        "    else:\r\n",
        "        tokens = [token.lower() for token in sentence]\r\n",
        "\r\n",
        "    tokens = [src_field.init_token] + tokens + [src_field.eos_token]\r\n",
        "        \r\n",
        "    src_indexes = [src_field.vocab.stoi[token] for token in tokens]\r\n",
        "\r\n",
        "    src_tensor = torch.LongTensor(src_indexes).unsqueeze(0).to(device)\r\n",
        "\r\n",
        "    with torch.no_grad():\r\n",
        "        encoder_conved, encoder_combined = model.encoder(src_tensor)\r\n",
        "\r\n",
        "    trg_indexes = [trg_field.vocab.stoi[trg_field.init_token]]\r\n",
        "\r\n",
        "    for i in range(max_len):\r\n",
        "\r\n",
        "        trg_tensor = torch.LongTensor(trg_indexes).unsqueeze(0).to(device)\r\n",
        "\r\n",
        "        with torch.no_grad():\r\n",
        "            output, attention = model.decoder(trg_tensor, encoder_conved, encoder_combined)\r\n",
        "        \r\n",
        "        pred_token = output.argmax(2)[:,-1].item()\r\n",
        "        \r\n",
        "        trg_indexes.append(pred_token)\r\n",
        "\r\n",
        "        if pred_token == trg_field.vocab.stoi[trg_field.eos_token]:\r\n",
        "            break\r\n",
        "    \r\n",
        "    trg_tokens = [trg_field.vocab.itos[i] for i in trg_indexes]\r\n",
        "    \r\n",
        "    return trg_tokens[1:], attention"
      ],
      "execution_count": null,
      "outputs": []
    },
    {
      "cell_type": "code",
      "metadata": {
        "id": "2DCHJCBPHGMw"
      },
      "source": [
        "def display_attention(sentence, translation, attention):\r\n",
        "    \r\n",
        "    fig = plt.figure(figsize=(10,10))\r\n",
        "    ax = fig.add_subplot(111)\r\n",
        "        \r\n",
        "    attention = attention.squeeze(0).cpu().detach().numpy()\r\n",
        "    \r\n",
        "    cax = ax.matshow(attention, cmap='bone')\r\n",
        "   \r\n",
        "    ax.tick_params(labelsize=15)\r\n",
        "    ax.set_xticklabels(['']+['<sos>']+[t.lower() for t in sentence]+['<eos>'], \r\n",
        "                       rotation=45)\r\n",
        "    ax.set_yticklabels(['']+translation)\r\n",
        "\r\n",
        "    ax.xaxis.set_major_locator(ticker.MultipleLocator(1))\r\n",
        "    ax.yaxis.set_major_locator(ticker.MultipleLocator(1))\r\n",
        "\r\n",
        "    plt.show()\r\n",
        "    plt.close()"
      ],
      "execution_count": null,
      "outputs": []
    },
    {
      "cell_type": "code",
      "metadata": {
        "colab": {
          "base_uri": "https://localhost:8080/"
        },
        "id": "vPCFasfbHJw5",
        "outputId": "a5199c3e-6b31-425c-b6f7-bd270d8fd6ff"
      },
      "source": [
        "example_idx = 2\r\n",
        "\r\n",
        "src = vars(train_data.examples[example_idx])['src']\r\n",
        "trg = vars(train_data.examples[example_idx])['trg']\r\n",
        "\r\n",
        "print(f'src = {src}')\r\n",
        "print(f'trg = {trg}')"
      ],
      "execution_count": null,
      "outputs": [
        {
          "output_type": "stream",
          "text": [
            "src = ['ein', 'kleines', 'mädchen', 'klettert', 'in', 'ein', 'spielhaus', 'aus', 'holz', '.']\n",
            "trg = ['a', 'little', 'girl', 'climbing', 'into', 'a', 'wooden', 'playhouse', '.']\n"
          ],
          "name": "stdout"
        }
      ]
    },
    {
      "cell_type": "code",
      "metadata": {
        "colab": {
          "base_uri": "https://localhost:8080/"
        },
        "id": "NRX-_ktuHM7M",
        "outputId": "6bafeacf-0e42-4315-964e-c3a0308c3162"
      },
      "source": [
        "translation, attention = translate_sentence(src, SRC, TRG, model, device)\r\n",
        "\r\n",
        "print(f'predicted trg = {translation}')"
      ],
      "execution_count": null,
      "outputs": [
        {
          "output_type": "stream",
          "text": [
            "predicted trg = ['a', 'little', 'girl', 'climbs', 'in', 'a', 'playhouse', 'made', 'of', 'wood', '.', '<eos>']\n"
          ],
          "name": "stdout"
        }
      ]
    },
    {
      "cell_type": "code",
      "metadata": {
        "colab": {
          "base_uri": "https://localhost:8080/",
          "height": 646
        },
        "id": "6M-tUR1tHPzk",
        "outputId": "04b9ede6-54a7-44c4-8d69-091c0033a3c7"
      },
      "source": [
        "display_attention(src, translation, attention)"
      ],
      "execution_count": null,
      "outputs": [
        {
          "output_type": "display_data",
          "data": {
            "image/png": "[encoded data removed]",
            "text/plain": [
              "<Figure size 720x720 with 1 Axes>"
            ]
          },
          "metadata": {
            "tags": [],
            "needs_background": "light"
          }
        }
      ]
    },
    {
      "cell_type": "markdown",
      "metadata": {
        "id": "72SZE9aauZwQ"
      },
      "source": [
        "### Observations\r\n",
        "\r\n",
        "1.   Inspite of having more parameters than the RNN model, this model trains faster due to computations performed in parallel\r\n",
        "2.   The performance of CNN model is better than the RNN model.\r\n",
        "\r\n"
      ]
    }
  ]
}
{
  "nbformat": 4,
  "nbformat_minor": 0,
  "metadata": {
    "colab": {
      "name": "Ass10 Machine Translation-English to German.ipynb",
      "provenance": []
    },
    "kernelspec": {
      "name": "python3",
      "display_name": "Python 3"
    },
    "accelerator": "GPU"
  },
  "cells": [
    {
      "cell_type": "markdown",
      "metadata": {
        "id": "PwEwCZ21c4_j"
      },
      "source": [
        "Machine Translation Seq2Seq model for English to German translation.\r\n",
        "\r\n",
        "\r\n",
        "\r\n",
        "1.   Uses attention mechanism to improve translation accuracy\r\n",
        "2.   This architecture but using a few tricks that are applicable to all RNN architectures - packed padded sequences and masking. This improves train time \r\n",
        "\r\n"
      ]
    },
    {
      "cell_type": "code",
      "metadata": {
        "id": "SDPZrjMHfKo2"
      },
      "source": [
        "import torch\r\n",
        "import spacy\r\n",
        "from torchtext.datasets import Multi30k\r\n",
        "import torch.nn as nn\r\n",
        "import torch.nn.functional as F\r\n",
        "import numpy as np\r\n",
        "\r\n",
        "import random\r\n",
        "import math\r\n"
      ],
      "execution_count": 1,
      "outputs": []
    },
    {
      "cell_type": "code",
      "metadata": {
        "id": "UlCmh5AJrrBl"
      },
      "source": [
        "!python -m spacy download en\r\n",
        "!python -m spacy download de"
      ],
      "execution_count": null,
      "outputs": []
    },
    {
      "cell_type": "code",
      "metadata": {
        "id": "YmPXxhKkhEhj"
      },
      "source": [
        "spacy_de = spacy.load('de')\r\n",
        "spacy_en = spacy.load('en')"
      ],
      "execution_count": 3,
      "outputs": []
    },
    {
      "cell_type": "code",
      "metadata": {
        "id": "lPs4XN-VUgc4"
      },
      "source": [
        "SEED = 1234\r\n",
        "\r\n",
        "random.seed(SEED)\r\n",
        "np.random.seed(SEED)\r\n",
        "torch.manual_seed(SEED)\r\n",
        "torch.cuda.manual_seed(SEED)\r\n",
        "torch.backends.cudnn.deterministic = True"
      ],
      "execution_count": 4,
      "outputs": []
    },
    {
      "cell_type": "code",
      "metadata": {
        "id": "0QgeEcLttm4H"
      },
      "source": [
        "def tokenize_en(text):\r\n",
        "  return [tok.text for tok in spacy_en.tokenizer(text)]\r\n",
        "\r\n",
        "def tokenize_de(text):\r\n",
        "  return [tok.text for tok in spacy_de.tokenizer(text)]\r\n"
      ],
      "execution_count": 5,
      "outputs": []
    },
    {
      "cell_type": "code",
      "metadata": {
        "id": "mfps8RqxvGzS"
      },
      "source": [
        "from torchtext.data import Field\r\n",
        "\r\n",
        "\r\n",
        "SRC = Field(tokenize = tokenize_en,\r\n",
        "      # sequential = True,\r\n",
        "      init_token = '<sos>',\r\n",
        "      eos_token = '<eos>',\r\n",
        "      lower = True,\r\n",
        "      include_lengths =True\r\n",
        "      )\r\n",
        "\r\n",
        "\r\n",
        "TGT = Field(tokenize=tokenize_de,\r\n",
        "      # sequential = True,\r\n",
        "      init_token = '<sos>',\r\n",
        "      eos_token = '<eos>',\r\n",
        "      lower = True,\r\n",
        "      include_lengths =True\r\n",
        "      )"
      ],
      "execution_count": 6,
      "outputs": []
    },
    {
      "cell_type": "code",
      "metadata": {
        "id": "_ZGfvSTyzgqk"
      },
      "source": [
        "train, valid, test = Multi30k.splits(exts = ('.en','.de'), fields = (SRC,TGT))"
      ],
      "execution_count": 7,
      "outputs": []
    },
    {
      "cell_type": "code",
      "metadata": {
        "id": "Y5kHv7LF1YwM"
      },
      "source": [
        "SRC.build_vocab(train, min_freq=2)\r\n",
        "TGT.build_vocab(train, min_freq=2)"
      ],
      "execution_count": 8,
      "outputs": []
    },
    {
      "cell_type": "code",
      "metadata": {
        "id": "yJDxqUvoVJvf",
        "colab": {
          "base_uri": "https://localhost:8080/"
        },
        "outputId": "4dc2878f-65a4-4b85-926f-0a4f5830a563"
      },
      "source": [
        "len(train.examples[0].src)"
      ],
      "execution_count": 9,
      "outputs": [
        {
          "output_type": "execute_result",
          "data": {
            "text/plain": [
              "11"
            ]
          },
          "metadata": {
            "tags": []
          },
          "execution_count": 9
        }
      ]
    },
    {
      "cell_type": "code",
      "metadata": {
        "id": "xravp5IYbuPd"
      },
      "source": [
        "device = torch.device('cuda' if torch.cuda.is_available() else 'cpu')"
      ],
      "execution_count": 10,
      "outputs": []
    },
    {
      "cell_type": "markdown",
      "metadata": {
        "id": "iNc1YMKIeSj7"
      },
      "source": [
        "Augment data here if required"
      ]
    },
    {
      "cell_type": "code",
      "metadata": {
        "id": "p6otc3uP3HOM"
      },
      "source": [
        "from torchtext.data import BucketIterator\r\n",
        "\r\n",
        "BATCH_SIZE = 32\r\n",
        "train_iterator, valid_iterator, test_iterator = BucketIterator.splits((train, valid, test),\r\n",
        "                                                               batch_size = BATCH_SIZE,\r\n",
        "                                                               sort_key = lambda x: len(x.src),\r\n",
        "                                                               sort_within_batch = True,\r\n",
        "                                                               device=device)\r\n"
      ],
      "execution_count": 11,
      "outputs": []
    },
    {
      "cell_type": "code",
      "metadata": {
        "colab": {
          "base_uri": "https://localhost:8080/"
        },
        "id": "6X-mSNM3xIcK",
        "outputId": "4bcb8da3-f879-49af-a0aa-878fefb45782"
      },
      "source": [
        "list(iter(train_iterator))[123].src"
      ],
      "execution_count": 30,
      "outputs": [
        {
          "output_type": "execute_result",
          "data": {
            "text/plain": [
              "(tensor([[   2,    2,    2,    2,    2,    2,    2,    2,    2,    2,    2,    2,\n",
              "             2,    2,    2,    2,    2,    2,    2,    2,    2,    2,    2,    2,\n",
              "             2,    2,    2,    2,    2,    2,    2,    2],\n",
              "         [   4,  795,  480,    4,    4,    7,    4,    4,    4,   48,  682,    4,\n",
              "            48,    4,    4,    4,    4,   16,    4,   16,    4,   21,   16,    4,\n",
              "             4,    4,    7,    4,   16,    4,  196,    4],\n",
              "         [  26,   73,    6,    9,   70,  134,    9,   34,   55,   63,    9,   14,\n",
              "           905,   24,   70,   14,    9,  161,   14,   30,  132,  115,   30,   14,\n",
              "             9,    9,   14,    0,   30,  870,   17,    0],\n",
              "         [ 145,    6,    4,    6,   55,   10,   11,   10,   91,   17,    6,    6,\n",
              "            22, 2252,   55,   91,  165, 1588,    6,  403,  491,    9, 1623,    6,\n",
              "            10,   15,   10,   14,  249,  436,    6,   14],\n",
              "         [  14,   26,   31,  217, 2281,   12,   27, 4377,    8,   36,    4,    4,\n",
              "          1003,   33,    6, 1108,    4,  753,    4,    8,    9,    6,  129,   21,\n",
              "            32,   14,  714,    6,   54,   54,    7,    6],\n",
              "         [  13,   11,   23,   91,   58,    4,  183,  412,    4,    8,   23,  132,\n",
              "           352,  601,   21,    8,  342,   17,   25,    4, 3668,   21,   13,   86,\n",
              "            13,   15,   44,    4,    4,    4,  118,    4],\n",
              "         [ 132,   25, 1426,    6,    7,   14, 2927,   16,   90,    7,   21,   23,\n",
              "            28,    6,    0,    4,   12,    0,  117,  550, 3301,   86,    4,   23,\n",
              "             4,   55,  393,   29,  134,  134,  254,  132],\n",
              "         [  97,   13,  124,    4,    9,  617, 1214, 3317,   15, 1674,  640, 1002,\n",
              "           399,    7,   23,  243,    4,   82,   13,  177,   69, 2687,  307,   10,\n",
              "           518,   32,   28,   23,   28,    6,   18,   23],\n",
              "         [  10,   25,    7,  164,    6,    6,    4, 3943, 1554,   12,   36,    4,\n",
              "            40,  103,  140,    6,  365,    9,   29,    6,   74,   81,  615,  304,\n",
              "            12,    8,    7,   10,  257,   43, 1255,  140],\n",
              "         [  45,  217,  484,  138,    7,    4, 3602,   11,  425,    4,   83, 1022,\n",
              "             4,   28,    4,    7,    8,   49, 1499,   43, 5441,  140,   15,  131,\n",
              "           517, 1221,    9, 1561,  312,   12,    7,    4],\n",
              "         [ 336,    8,   12,   13,   25,  164, 2073,   10,   11,  159,  131,  413,\n",
              "          1010,   37,  286,  168,    7,    7,   10,   12,    8,    4,   80,    6,\n",
              "            15,  254,  107, 5862,   18, 5711,  289, 1568],\n",
              "         [   4,  858,    4,   21,   23,  169,   18, 1142,  455,  114,   11,   69,\n",
              "             9,    4,   18,   12,  309,  876,   45,    4,    4,  573,    4,    4,\n",
              "           218,   54,   20,   13,  414,  488, 1356,  313],\n",
              "         [  62,   20,  434, 3412,  140,    7,  507,    6,    4,  136,  351,    4,\n",
              "           730,  223,   44,    4,  226,   11,    4,  331,  466,   12,  361,  420,\n",
              "             4,    7,   27,    4,    4,   11,   51,   10],\n",
              "         [ 535,  121,  432, 1551,  143, 2934, 3703,  103,  277,  974, 1072,  402,\n",
              "           944,  126, 1226,   85,  676,  364, 4359,  221,  347,  367, 1167,  400,\n",
              "           556,  293,  286,  382,  413, 2119, 1973,   22],\n",
              "         [   5,    5,    5,    5,    5,    5,    5,    5,    5,    5,    5,    5,\n",
              "             5,    5,    5,    5,    5,    5,    5,    5,    5,    5,    5,    5,\n",
              "             5,    5,    5,    5,    5,    5,    5,    5],\n",
              "         [   3,    3,    3,    3,    3,    3,    3,    3,    3,    3,    3,    3,\n",
              "             3,    3,    3,    3,    3,    3,    3,    3,    3,    3,    3,    3,\n",
              "             3,    3,    3,    3,    3,    3,    3,    3]], device='cuda:0'),\n",
              " tensor([16, 16, 16, 16, 16, 16, 16, 16, 16, 16, 16, 16, 16, 16, 16, 16, 16, 16,\n",
              "         16, 16, 16, 16, 16, 16, 16, 16, 16, 16, 16, 16, 16, 16],\n",
              "        device='cuda:0'))"
            ]
          },
          "metadata": {
            "tags": []
          },
          "execution_count": 30
        }
      ]
    },
    {
      "cell_type": "markdown",
      "metadata": {
        "id": "DFLm0z2CVvlB"
      },
      "source": [
        "## Building the Seq2Seq Model\r\n",
        "\r\n",
        "### Encoder\r\n",
        "\r\n",
        "First, we'll build the encoder. Similar to the previous model, we only use a single layer GRU, however we now use a *bidirectional RNN*. With a bidirectional RNN, we have two RNNs in each layer. A *forward RNN* going over the embedded sentence from left to right (shown below in green), and a *backward RNN* going over the embedded sentence from right to left (teal). All we need to do in code is set `bidirectional = True` and then pass the embedded sentence to the RNN as before. \r\n",
        "\r\n",
        "![](https://github.com/bentrevett/pytorch-seq2seq/blob/master/assets/seq2seq8.png?raw=1)\r\n",
        "\r\n",
        "We now have:\r\n",
        "\r\n",
        "$$\\begin{align*}\r\n",
        "h_t^\\rightarrow &= \\text{EncoderGRU}^\\rightarrow(e(x_t^\\rightarrow),h_{t-1}^\\rightarrow)\\\\\r\n",
        "h_t^\\leftarrow &= \\text{EncoderGRU}^\\leftarrow(e(x_t^\\leftarrow),h_{t-1}^\\leftarrow)\r\n",
        "\\end{align*}$$\r\n",
        "\r\n",
        "Where $x_0^\\rightarrow = \\text{<sos>}, x_1^\\rightarrow = \\text{guten}$ and $x_0^\\leftarrow = \\text{<eos>}, x_1^\\leftarrow = \\text{morgen}$.\r\n",
        "\r\n",
        "As before, we only pass an input (`embedded`) to the RNN, which tells PyTorch to initialize both the forward and backward initial hidden states ($h_0^\\rightarrow$ and $h_0^\\leftarrow$, respectively) to a tensor of all zeros. We'll also get two context vectors, one from the forward RNN after it has seen the final word in the sentence, $z^\\rightarrow=h_T^\\rightarrow$, and one from the backward RNN after it has seen the first word in the sentence, $z^\\leftarrow=h_T^\\leftarrow$.\r\n",
        "\r\n",
        "The RNN returns `outputs` and `hidden`. \r\n",
        "\r\n",
        "`outputs` is of size **[src len, batch size, hid dim * num directions]** where the first `hid_dim` elements in the third axis are the hidden states from the top layer forward RNN, and the last `hid_dim` elements are hidden states from the top layer backward RNN. We can think of the third axis as being the forward and backward hidden states concatenated together other, i.e. $h_1 = [h_1^\\rightarrow; h_{T}^\\leftarrow]$, $h_2 = [h_2^\\rightarrow; h_{T-1}^\\leftarrow]$ and we can denote all encoder hidden states (forward and backwards concatenated together) as $H=\\{ h_1, h_2, ..., h_T\\}$.\r\n",
        "\r\n",
        "`hidden` is of size **[n layers * num directions, batch size, hid dim]**, where **[-2, :, :]** gives the top layer forward RNN hidden state after the final time-step (i.e. after it has seen the last word in the sentence) and **[-1, :, :]** gives the top layer backward RNN hidden state after the final time-step (i.e. after it has seen the first word in the sentence).\r\n",
        "\r\n",
        "As the decoder is not bidirectional, it only needs a single context vector, $z$, to use as its initial hidden state, $s_0$, and we currently have two, a forward and a backward one ($z^\\rightarrow=h_T^\\rightarrow$ and $z^\\leftarrow=h_T^\\leftarrow$, respectively). We solve this by concatenating the two context vectors together, passing them through a linear layer, $g$, and applying the $\\tanh$ activation function. \r\n",
        "\r\n",
        "$$z=\\tanh(g(h_T^\\rightarrow, h_T^\\leftarrow)) = \\tanh(g(z^\\rightarrow, z^\\leftarrow)) = s_0$$\r\n",
        "\r\n",
        "**Note**: this is actually a deviation from the paper. Instead, they feed only the first backward RNN hidden state through a linear layer to get the context vector/decoder initial hidden state. This doesn't seem to make sense to me, so we have changed it.\r\n",
        "\r\n",
        "As we want our model to look back over the whole of the source sentence we return `outputs`, the stacked forward and backward hidden states for every token in the source sentence. We also return `hidden`, which acts as our initial hidden state in the decoder."
      ]
    },
    {
      "cell_type": "code",
      "metadata": {
        "id": "S79_4T4rVta4"
      },
      "source": [
        "class Encoder(nn.Module):\r\n",
        "  def __init__(self, input_dim, emb_dim, enc_hid_dim, dec_him_dim, dropout):\r\n",
        "    super().__init__()\r\n",
        "    self.embedding = nn.Embedding(input_dim, emb_dim)\r\n",
        "    self.rnn = nn.GRU(emb_dim, enc_hid_dim, bidirectional=True)\r\n",
        "    self.fc = nn.Linear(2*enc_hid_dim, dec_him_dim)\r\n",
        "    self.dropout = nn.Dropout(dropout)\r\n",
        "\r\n",
        "\r\n",
        "  def forward(self, src, src_len):\r\n",
        "    # print('src in debugger', (src[0].shape),src_len)\r\n",
        "    # src = [seq_len, batch_size] \r\n",
        "    embedding = self.dropout(self.embedding(src[0]))\r\n",
        "    # embedding = [seq_len, batch_size, emb_dim]\r\n",
        "    packed_embedded = nn.utils.rnn.pack_padded_sequence(embedding, src_len)\r\n",
        "    packed_outputs, hidden = self.rnn(packed_embedded)\r\n",
        "    # packed_outputs is a packed sequence containing all hidden states\r\n",
        "    # hidden is from the final non-passed elemeent in the batch\r\n",
        "    outputs,_ = nn.utils.rnn.pad_packed_sequence(packed_outputs)\r\n",
        "    # outputs is now non-packed sequence, all hidden states obtained when the input is a pad token are all zeros\r\n",
        "    # output = [seq_len, batch_size, directions * hid_dim]\r\n",
        "    # hidden = [directions * layers , batch_size, him_dim]\r\n",
        "    # Combining both hidden layers to create one context vector\r\n",
        "    hidden = torch.tanh(self.fc(torch.cat((hidden[-2,:,:], hidden[-1,:,:]), dim = 1)))\r\n",
        "    return outputs, hidden\r\n"
      ],
      "execution_count": 13,
      "outputs": []
    },
    {
      "cell_type": "code",
      "metadata": {
        "id": "GCschgsng_6H"
      },
      "source": [
        "# test Encoder\r\n",
        "\r\n",
        "# enc = Encoder(emb_dim=256,\r\n",
        "#              input_dim = 32,\r\n",
        "#              enc_hid_dim = 512,\r\n",
        "#              dec_him_dim= 512,\r\n",
        "#              dropout=0.5)\r\n",
        "# o1,o2 = enc.forward(torch.zeros(12,32).to(torch.int64))"
      ],
      "execution_count": 14,
      "outputs": []
    },
    {
      "cell_type": "code",
      "metadata": {
        "id": "eiD9VlH89u9Y"
      },
      "source": [
        "# s_hidden = o2\r\n",
        "# print(s_hidden.unsqueeze(1).shape,o1.shape)\r\n",
        "# print(s_hidden.unsqueeze(1).repeat(1,12,1).shape)\r\n",
        "# print(o1.shape,o1.permute(1,0,2).shape)\r\n",
        "\r\n",
        "# torch.cat((o1.permute(1,0,2),s_hidden.unsqueeze(1).repeat(1,12,1)),dim=2).shape"
      ],
      "execution_count": 15,
      "outputs": []
    },
    {
      "cell_type": "markdown",
      "metadata": {
        "id": "QJ5M8aOLfXsn"
      },
      "source": [
        "### Attention\r\n",
        "\r\n",
        "Next up is the attention layer. This will take in the previous hidden state of the decoder, $s_{t-1}$, and all of the stacked forward and backward hidden states from the encoder, $H$. The layer will output an attention vector, $a_t$, that is the length of the source sentence, each element is between 0 and 1 and the entire vector sums to 1.\r\n",
        "\r\n",
        "Intuitively, this layer takes what we have decoded so far, $s_{t-1}$, and all of what we have encoded, $H$, to produce a vector, $a_t$, that represents which words in the source sentence we should pay the most attention to in order to correctly predict the next word to decode, $\\hat{y}_{t+1}$. \r\n",
        "\r\n",
        "First, we calculate the *energy* between the previous decoder hidden state and the encoder hidden states. As our encoder hidden states are a sequence of $T$ tensors, and our previous decoder hidden state is a single tensor, the first thing we do is `repeat` the previous decoder hidden state $T$ times. We then calculate the energy, $E_t$, between them by concatenating them together and passing them through a linear layer (`attn`) and a $\\tanh$ activation function. \r\n",
        "\r\n",
        "$$E_t = \\tanh(\\text{attn}(s_{t-1}, H))$$ \r\n",
        "\r\n",
        "This can be thought of as calculating how well each encoder hidden state \"matches\" the previous decoder hidden state.\r\n",
        "\r\n",
        "We currently have a **[dec hid dim, src len]** tensor for each example in the batch. We want this to be **[src len]** for each example in the batch as the attention should be over the length of the source sentence. This is achieved by multiplying the `energy` by a **[1, dec hid dim]** tensor, $v$.\r\n",
        "\r\n",
        "$$\\hat{a}_t = v E_t$$\r\n",
        "\r\n",
        "We can think of $v$ as the weights for a weighted sum of the energy across all encoder hidden states. These weights tell us how much we should attend to each token in the source sequence. The parameters of $v$ are initialized randomly, but learned with the rest of the model via backpropagation. Note how $v$ is not dependent on time, and the same $v$ is used for each time-step of the decoding. We implement $v$ as a linear layer without a bias.\r\n",
        "\r\n",
        "Finally, we ensure the attention vector fits the constraints of having all elements between 0 and 1 and the vector summing to 1 by passing it through a $\\text{softmax}$ layer.\r\n",
        "\r\n",
        "$$a_t = \\text{softmax}(\\hat{a_t})$$\r\n",
        "\r\n",
        "This gives us the attention over the source sentence!\r\n",
        "\r\n",
        "Graphically, this looks something like below. This is for calculating the very first attention vector, where $s_{t-1} = s_0 = z$. The green/teal blocks represent the hidden states from both the forward and backward RNNs, and the attention computation is all done within the pink block.\r\n",
        "\r\n",
        "![](https://github.com/bentrevett/pytorch-seq2seq/blob/master/assets/seq2seq9.png?raw=1)"
      ]
    },
    {
      "cell_type": "code",
      "metadata": {
        "id": "8lXSsWBgw_Me"
      },
      "source": [
        "class Attention(nn.Module):\r\n",
        "  def __init__(self, enc_hid_dim, dec_hid_dim):\r\n",
        "    super().__init__()\r\n",
        "    self.attn = nn.Linear((enc_hid_dim*2) + dec_hid_dim, enc_hid_dim)\r\n",
        "    self.v = nn.Linear(enc_hid_dim, 1, bias = False)\r\n",
        "\r\n",
        "  def forward(self, hidden, encoder_outputs,mask):\r\n",
        "    batch_size = encoder_outputs.shape[1]\r\n",
        "    src_len = encoder_outputs.shape[0]\r\n",
        "    # hidden = [batch_size, dec_hid_dim]\r\n",
        "    hidden = hidden.unsqueeze(1).repeat(1, src_len, 1) # hidden = [batch_size, src_len, dec_hid_dim]\r\n",
        "    # encoder_outputs = [src_len, batch_size, enc_hid_dim*2]\r\n",
        "    encoder_outputs = encoder_outputs.permute(1,0,2)\r\n",
        "    # encoder_outputs = [batch_size,src_len, enc_hid_dim*2]\r\n",
        "    energy = torch.tanh(self.attn(torch.cat((hidden,encoder_outputs), dim = 2)))\r\n",
        "    # energy =[batch_size, src_len, dec_hid_dim]\r\n",
        "    attention = self.v(energy).squeeze(2)\r\n",
        "    attention = attention.masked_fill(mask ==0, -1e10)\r\n",
        "    # attention = [batch_size, src_len]\r\n",
        "    return F.softmax(attention,dim = 1)\r\n",
        "\r\n",
        "\r\n"
      ],
      "execution_count": 16,
      "outputs": []
    },
    {
      "cell_type": "markdown",
      "metadata": {
        "id": "t0DbqdYgfcHk"
      },
      "source": [
        "### Decoder\r\n",
        "\r\n",
        "Next up is the decoder. \r\n",
        "\r\n",
        "The decoder contains the attention layer, `attention`, which takes the previous hidden state, $s_{t-1}$, all of the encoder hidden states, $H$, and returns the attention vector, $a_t$.\r\n",
        "\r\n",
        "We then use this attention vector to create a weighted source vector, $w_t$, denoted by `weighted`, which is a weighted sum of the encoder hidden states, $H$, using $a_t$ as the weights.\r\n",
        "\r\n",
        "$$w_t = a_t H$$\r\n",
        "\r\n",
        "The embedded input word, $d(y_t)$, the weighted source vector, $w_t$, and the previous decoder hidden state, $s_{t-1}$, are then all passed into the decoder RNN, with $d(y_t)$ and $w_t$ being concatenated together.\r\n",
        "\r\n",
        "$$s_t = \\text{DecoderGRU}(d(y_t), w_t, s_{t-1})$$\r\n",
        "\r\n",
        "We then pass $d(y_t)$, $w_t$ and $s_t$ through the linear layer, $f$, to make a prediction of the next word in the target sentence, $\\hat{y}_{t+1}$. This is done by concatenating them all together.\r\n",
        "\r\n",
        "$$\\hat{y}_{t+1} = f(d(y_t), w_t, s_t)$$\r\n",
        "\r\n",
        "The image below shows decoding the first word in an example translation.\r\n",
        "\r\n",
        "![](https://github.com/bentrevett/pytorch-seq2seq/blob/master/assets/seq2seq10.png?raw=1)\r\n",
        "\r\n",
        "The green/teal blocks show the forward/backward encoder RNNs which output $H$, the red block shows the context vector, $z = h_T = \\tanh(g(h^\\rightarrow_T,h^\\leftarrow_T)) = \\tanh(g(z^\\rightarrow, z^\\leftarrow)) = s_0$, the blue block shows the decoder RNN which outputs $s_t$, the purple block shows the linear layer, $f$, which outputs $\\hat{y}_{t+1}$ and the orange block shows the calculation of the weighted sum over $H$ by $a_t$ and outputs $w_t$. Not shown is the calculation of $a_t$."
      ]
    },
    {
      "cell_type": "code",
      "metadata": {
        "id": "_KgPbnUryTKm"
      },
      "source": [
        "class Decoder(nn.Module):\r\n",
        "  def __init__(self,output_dim, emb_dim, enc_hid_dim, dec_hid_dim, dropout, attention):\r\n",
        "    super().__init__()\r\n",
        "    self.embedding = nn.Embedding(output_dim, emb_dim) \r\n",
        "    self.rnn = nn.GRU((enc_hid_dim * 2) + emb_dim, dec_hid_dim)\r\n",
        "    self.fc_out = nn.Linear((enc_hid_dim*2) + dec_hid_dim + emb_dim, output_dim)\r\n",
        "    self.dropout = nn.Dropout(dropout)\r\n",
        "    self.attention = attention\r\n",
        "    self.emb_dim = emb_dim\r\n",
        "    self.output_dim = output_dim\r\n",
        "    self.enc_hid_dim = enc_hid_dim\r\n",
        "    self.dec_hid_dim = dec_hid_dim\r\n",
        "\r\n",
        "\r\n",
        "  def forward(self, input, hidden, encoder_outputs, mask):\r\n",
        "    # input = [batch_size]\r\n",
        "    input = input.unsqueeze(0) # input = [1, batch_size]\r\n",
        "    embedding = self.dropout(self.embedding(input))\r\n",
        "    # embedding = [1, batch_size, emb_dim]\r\n",
        "    a = self.attention(hidden, encoder_outputs, mask)\r\n",
        "    a = a.unsqueeze(1)\r\n",
        "    # a=[batch_size, 1, src_len]\r\n",
        "    encoder_outputs = encoder_outputs.permute(1,0,2)\r\n",
        "    # encoder_outputs =[batch_size, src_len, enc_hid_dim * 2]\r\n",
        "    weighted = torch.bmm(a, encoder_outputs)\r\n",
        "     #weighted = [batch size, 1, enc hid dim * 2]\r\n",
        "    weighted = weighted.permute(1, 0, 2)\r\n",
        "    #weighted = [1, batch size, enc hid dim * 2]\r\n",
        "    outputs, hidden = self.rnn(torch.cat((embedding, weighted), dim =2), hidden.unsqueeze(0))\r\n",
        "\r\n",
        "    #outputs = [seq len, batch size, dec hid dim * n directions]\r\n",
        "    #hidden = [n layers * n directions, batch size, dec hid dim]\r\n",
        "    \r\n",
        "    #seq len, n layers and n directions will always be 1 in this decoder, therefore:\r\n",
        "    #outputs = [1, batch size, dec hid dim]\r\n",
        "    #hidden = [1, batch size, dec hid dim]\r\n",
        "    embedding = embedding.squeeze(0)\r\n",
        "    outputs = outputs.squeeze(0)\r\n",
        "    weighted = weighted.squeeze(0)\r\n",
        "    prediction = self.fc_out(torch.cat((outputs, weighted, embedding), dim = 1))\r\n",
        "    \r\n",
        "    return prediction, hidden.squeeze(0)\r\n"
      ],
      "execution_count": 17,
      "outputs": []
    },
    {
      "cell_type": "code",
      "metadata": {
        "id": "Tgtcb9s-myZ8"
      },
      "source": [
        "# o1.shape, o2.shape,fc.shape"
      ],
      "execution_count": 18,
      "outputs": []
    },
    {
      "cell_type": "markdown",
      "metadata": {
        "id": "ptY3sFF5cOTD"
      },
      "source": [
        "### Seq2Seq\r\n",
        "\r\n",
        "This is the first model where we don't have to have the encoder RNN and decoder RNN have the same hidden dimensions, however the encoder has to be bidirectional. This requirement can be removed by changing all occurences of `enc_dim * 2` to `enc_dim * 2 if encoder_is_bidirectional else enc_dim`. \r\n",
        "\r\n",
        "This seq2seq encapsulator is similar to the last two. The only difference is that the `encoder` returns both the final hidden state (which is the final hidden state from both the forward and backward encoder RNNs passed through a linear layer) to be used as the initial hidden state for the decoder, as well as every hidden state (which are the forward and backward hidden states stacked on top of each other). We also need to ensure that `hidden` and `encoder_outputs` are passed to the decoder. \r\n",
        "\r\n",
        "Briefly going over all of the steps:\r\n",
        "- the `outputs` tensor is created to hold all predictions, $\\hat{Y}$\r\n",
        "- the source sequence, $X$, is fed into the encoder to receive $z$ and $H$\r\n",
        "- the initial decoder hidden state is set to be the `context` vector, $s_0 = z = h_T$\r\n",
        "- we use a batch of `<sos>` tokens as the first `input`, $y_1$\r\n",
        "- we then decode within a loop:\r\n",
        "  - inserting the input token $y_t$, previous hidden state, $s_{t-1}$, and all encoder outputs, $H$, into the decoder\r\n",
        "  - receiving a prediction, $\\hat{y}_{t+1}$, and a new hidden state, $s_t$\r\n",
        "  - we then decide if we are going to teacher force or not, setting the next input as appropriate"
      ]
    },
    {
      "cell_type": "code",
      "metadata": {
        "id": "qmyBZxIgcMIF"
      },
      "source": [
        "class Seq2Seq(nn.Module):\r\n",
        "  def __init__(self,encoder,decoder, device,src_pad_idx):\r\n",
        "    super().__init__()\r\n",
        "    self.encoder = encoder\r\n",
        "    self.decoder = decoder\r\n",
        "    self.device = device\r\n",
        "    self.src_pad_idx = src_pad_idx\r\n",
        "    \r\n",
        "  def create_mask(self, src):\r\n",
        "    # print('in mask src shape',src.shape)\r\n",
        "    mask = (src != self.src_pad_idx).permute(1, 0)\r\n",
        "    return mask\r\n",
        "\r\n",
        "  def forward(self, src, tgt, teacher_forcing_ratio= 0.5):\r\n",
        "    # src = [src_len, batch_size]\r\n",
        "    # tgt = [tgt_len, batch_size]\r\n",
        "    batch_size = src[0].shape[1]\r\n",
        "    trg_len = tgt[0].shape[0]\r\n",
        "    trg_vocab_size = self.decoder.output_dim\r\n",
        "    #tensor to store decoder outputs\r\n",
        "    outputs = torch.zeros(trg_len, batch_size, trg_vocab_size).to(self.device)\r\n",
        "    #last hidden state of the encoder is the context\r\n",
        "    encoder_outputs, hidden = self.encoder(src, src[1].cpu())\r\n",
        "\r\n",
        "    #first input to the decoder is the <sos> tokens\r\n",
        "    input = tgt[0][0,:]\r\n",
        "    # print('input single',input.shape)\r\n",
        "    for t in range(1, trg_len):\r\n",
        "        mask = self.create_mask(src[0])\r\n",
        "        #insert input token embedding, previous hidden state and the context state\r\n",
        "        #receive output tensor (predictions) and new hidden state\r\n",
        "        output, hidden = self.decoder(input, hidden, encoder_outputs, mask)\r\n",
        "        \r\n",
        "        #place predictions in a tensor holding predictions for each token\r\n",
        "        outputs[t] = output\r\n",
        "        \r\n",
        "        #decide if we are going to use teacher forcing or not\r\n",
        "        teacher_force = random.random() < teacher_forcing_ratio\r\n",
        "        \r\n",
        "        #get the highest predicted token from our predictions\r\n",
        "        top1 = output.argmax(1) \r\n",
        "        \r\n",
        "        #if teacher forcing, use actual next token as next input\r\n",
        "        #if not, use predicted token\r\n",
        "        input = tgt[0][t] if teacher_force else top1\r\n",
        "    return outputs"
      ],
      "execution_count": 19,
      "outputs": []
    },
    {
      "cell_type": "code",
      "metadata": {
        "id": "ow-oJdJhaiin"
      },
      "source": [
        "INPUT_DIM = len(SRC.vocab)\r\n",
        "OUTPUT_DIM = len(TGT.vocab)\r\n",
        "ENC_EMB_DIM = 256\r\n",
        "DEC_EMB_DIM = 256\r\n",
        "ENC_HID_DIM = 512\r\n",
        "DEC_HID_DIM = 512\r\n",
        "ENC_DROPOUT = 0.5\r\n",
        "DEC_DROPOUT = 0.5\r\n",
        "src_pad_idx = SRC.vocab.stoi[SRC.pad_token]\r\n",
        "\r\n",
        "attn = Attention(ENC_HID_DIM,DEC_HID_DIM)\r\n",
        "enc = Encoder(INPUT_DIM, ENC_EMB_DIM, ENC_HID_DIM, DEC_HID_DIM, ENC_DROPOUT)\r\n",
        "dec = Decoder(OUTPUT_DIM, DEC_EMB_DIM, ENC_HID_DIM, DEC_HID_DIM, DEC_DROPOUT, attn)\r\n",
        "\r\n",
        "\r\n",
        "model = Seq2Seq(enc, dec, device, src_pad_idx).to(device)"
      ],
      "execution_count": 20,
      "outputs": []
    },
    {
      "cell_type": "code",
      "metadata": {
        "id": "YKJLf-vKbJIG",
        "colab": {
          "base_uri": "https://localhost:8080/"
        },
        "outputId": "7020b2b3-a4b0-4cd5-a1ee-a85487237ab6"
      },
      "source": [
        "def init_weights(m):\r\n",
        "    for name, param in m.named_parameters():\r\n",
        "      if 'weight' in name:\r\n",
        "        nn.init.normal_(param.data, mean=0, std=0.01)\r\n",
        "      else:\r\n",
        "        nn.init.constant_(param.data, 0)\r\n",
        "        \r\n",
        "model.apply(init_weights)"
      ],
      "execution_count": 21,
      "outputs": [
        {
          "output_type": "execute_result",
          "data": {
            "text/plain": [
              "Seq2Seq(\n",
              "  (encoder): Encoder(\n",
              "    (embedding): Embedding(5893, 256)\n",
              "    (rnn): GRU(256, 512, bidirectional=True)\n",
              "    (fc): Linear(in_features=1024, out_features=512, bias=True)\n",
              "    (dropout): Dropout(p=0.5, inplace=False)\n",
              "  )\n",
              "  (decoder): Decoder(\n",
              "    (embedding): Embedding(7855, 256)\n",
              "    (rnn): GRU(1280, 512)\n",
              "    (fc_out): Linear(in_features=1792, out_features=7855, bias=True)\n",
              "    (dropout): Dropout(p=0.5, inplace=False)\n",
              "    (attention): Attention(\n",
              "      (attn): Linear(in_features=1536, out_features=512, bias=True)\n",
              "      (v): Linear(in_features=512, out_features=1, bias=False)\n",
              "    )\n",
              "  )\n",
              ")"
            ]
          },
          "metadata": {
            "tags": []
          },
          "execution_count": 21
        }
      ]
    },
    {
      "cell_type": "code",
      "metadata": {
        "id": "IggCwIBgEzFl",
        "colab": {
          "base_uri": "https://localhost:8080/"
        },
        "outputId": "bb17fe0e-64d1-4dcc-dccb-7835925440c3"
      },
      "source": [
        "def count_parameters(model):\n",
        "    return sum(p.numel() for p in model.parameters() if p.requires_grad)\n",
        "\n",
        "print(f'The model has {count_parameters(model):,} trainable parameters')"
      ],
      "execution_count": 22,
      "outputs": [
        {
          "output_type": "stream",
          "text": [
            "The model has 24,036,783 trainable parameters\n"
          ],
          "name": "stdout"
        }
      ]
    },
    {
      "cell_type": "code",
      "metadata": {
        "id": "cTQRHT5yeF51"
      },
      "source": [
        "from torch.optim import Adam\r\n",
        "\r\n",
        "optimizer = Adam(model.parameters())"
      ],
      "execution_count": 23,
      "outputs": []
    },
    {
      "cell_type": "code",
      "metadata": {
        "id": "sJZx75UFbnj6"
      },
      "source": [
        "TRG_PAD_IDX = TGT.vocab.stoi[TGT.pad_token]\r\n",
        "\r\n",
        "criterion = nn.CrossEntropyLoss(ignore_index = TRG_PAD_IDX)"
      ],
      "execution_count": 24,
      "outputs": []
    },
    {
      "cell_type": "code",
      "metadata": {
        "id": "gbid7JvgdjR_"
      },
      "source": [
        "def train(model, iterator, optimizer, criterion, clip):\r\n",
        "  model.train()\r\n",
        "  epoch_loss = 0\r\n",
        "  for i, batch in enumerate(iterator):\r\n",
        "    # if i ==0:\r\n",
        "    #   print(batch.src[0].shape,batch.src[1].shape)\r\n",
        "    src, trg = batch.src,batch.trg\r\n",
        "    optimizer.zero_grad()\r\n",
        "    output = model(src, trg)\r\n",
        "    #trg = [trg len, batch size]\r\n",
        "    #output = [trg len, batch size, output dim]\r\n",
        "    output_dim = output.shape[-1]\r\n",
        "    output = output[1:].view(-1, output_dim)\r\n",
        "    trg = trg[0][1:].view(-1)\r\n",
        "    #trg = [(trg len - 1) * batch size]\r\n",
        "    #output = [(trg len - 1) * batch size, output dim]\r\n",
        "    loss = criterion(output, trg)\r\n",
        "    loss.backward()\r\n",
        "    torch.nn.utils.clip_grad_norm_(model.parameters(), clip)\r\n",
        "    optimizer.step()\r\n",
        "    epoch_loss += loss.item()\r\n",
        "    # break\r\n",
        "  return epoch_loss/ len(iterator)\r\n"
      ],
      "execution_count": 25,
      "outputs": []
    },
    {
      "cell_type": "code",
      "metadata": {
        "id": "IPYF1OX6QY3v"
      },
      "source": [
        "def evaluate(model, iterator, criterion):\r\n",
        "  model.eval()\r\n",
        "  epoch_loss = 0\r\n",
        "  with torch.no_grad():\r\n",
        "    for i, batch in enumerate(iterator):\r\n",
        "      src, trg = batch.src,batch.trg\r\n",
        "      optimizer.zero_grad()\r\n",
        "      output = model(src, trg, 0)\r\n",
        "      #trg = [trg len, batch size]\r\n",
        "      #output = [trg len, batch size, output dim]\r\n",
        "      output_dim = output.shape[-1]\r\n",
        "      output = output[1:].view(-1, output_dim)\r\n",
        "      trg = trg[0][1:].view(-1)\r\n",
        "      #trg = [(trg len - 1) * batch size]\r\n",
        "      #output = [(trg len - 1) * batch size, output dim]\r\n",
        "      loss = criterion(output, trg)\r\n",
        "      epoch_loss += loss.item()\r\n",
        "  return epoch_loss/ len(iterator)\r\n"
      ],
      "execution_count": 26,
      "outputs": []
    },
    {
      "cell_type": "code",
      "metadata": {
        "id": "lgb7-f9QLxnx"
      },
      "source": [
        "def epoch_time(start_time, end_time):\r\n",
        "    elapsed_time = end_time - start_time\r\n",
        "    elapsed_mins = int(elapsed_time / 60)\r\n",
        "    elapsed_secs = int(elapsed_time - (elapsed_mins * 60))\r\n",
        "    return elapsed_mins, elapsed_secs"
      ],
      "execution_count": 27,
      "outputs": []
    },
    {
      "cell_type": "code",
      "metadata": {
        "id": "VD2u02v_RcCk"
      },
      "source": [
        "import time"
      ],
      "execution_count": 28,
      "outputs": []
    },
    {
      "cell_type": "code",
      "metadata": {
        "id": "NdkjTBhCcV3x",
        "colab": {
          "base_uri": "https://localhost:8080/"
        },
        "outputId": "aef1adcb-f863-4135-d94b-e7d332d84a4c"
      },
      "source": [
        "N_EPOCHS= 10\r\n",
        "CLIP = 1\r\n",
        "\r\n",
        "best_valid_loss = float('inf')\r\n",
        "\r\n",
        "for epoch in range(N_EPOCHS):\r\n",
        "  start_time = time.time()\r\n",
        "  train_loss = train(model, train_iterator, optimizer, criterion, CLIP)\r\n",
        "  valid_loss = evaluate(model, valid_iterator, criterion)\r\n",
        "  end_time = time.time()\r\n",
        "  epoch_mins, epoch_secs = epoch_time(start_time, end_time)\r\n",
        "  \r\n",
        "  if valid_loss < best_valid_loss:\r\n",
        "      best_valid_loss = valid_loss\r\n",
        "      torch.save(model.state_dict(), 'eng2german-model.pt')\r\n",
        "  \r\n",
        "  print(f'Epoch: {epoch+1:02} | Time: {epoch_mins}m {epoch_secs}s')\r\n",
        "  print(f'\\tTrain Loss: {train_loss:.3f} | Train PPL: {math.exp(train_loss):7.3f}')\r\n",
        "  print(f'\\t Val. Loss: {valid_loss:.3f} |  Val. PPL: {math.exp(valid_loss):7.3f}')\r\n"
      ],
      "execution_count": 29,
      "outputs": [
        {
          "output_type": "stream",
          "text": [
            "Epoch: 01 | Time: 1m 28s\n",
            "\tTrain Loss: 4.320 | Train PPL:  75.196\n",
            "\t Val. Loss: 3.636 |  Val. PPL:  37.935\n",
            "Epoch: 02 | Time: 1m 29s\n",
            "\tTrain Loss: 2.841 | Train PPL:  17.141\n",
            "\t Val. Loss: 3.165 |  Val. PPL:  23.692\n",
            "Epoch: 03 | Time: 1m 29s\n",
            "\tTrain Loss: 2.237 | Train PPL:   9.366\n",
            "\t Val. Loss: 2.998 |  Val. PPL:  20.044\n",
            "Epoch: 04 | Time: 1m 29s\n",
            "\tTrain Loss: 1.834 | Train PPL:   6.259\n",
            "\t Val. Loss: 3.047 |  Val. PPL:  21.062\n",
            "Epoch: 05 | Time: 1m 29s\n",
            "\tTrain Loss: 1.549 | Train PPL:   4.707\n",
            "\t Val. Loss: 3.160 |  Val. PPL:  23.574\n",
            "Epoch: 06 | Time: 1m 29s\n",
            "\tTrain Loss: 1.394 | Train PPL:   4.032\n",
            "\t Val. Loss: 3.179 |  Val. PPL:  24.021\n",
            "Epoch: 07 | Time: 1m 29s\n",
            "\tTrain Loss: 1.264 | Train PPL:   3.538\n",
            "\t Val. Loss: 3.287 |  Val. PPL:  26.749\n",
            "Epoch: 08 | Time: 1m 29s\n",
            "\tTrain Loss: 1.139 | Train PPL:   3.123\n",
            "\t Val. Loss: 3.426 |  Val. PPL:  30.764\n",
            "Epoch: 09 | Time: 1m 29s\n",
            "\tTrain Loss: 1.051 | Train PPL:   2.859\n",
            "\t Val. Loss: 3.548 |  Val. PPL:  34.742\n",
            "Epoch: 10 | Time: 1m 29s\n",
            "\tTrain Loss: 0.968 | Train PPL:   2.633\n",
            "\t Val. Loss: 3.596 |  Val. PPL:  36.452\n"
          ],
          "name": "stdout"
        }
      ]
    },
    {
      "cell_type": "code",
      "metadata": {
        "colab": {
          "base_uri": "https://localhost:8080/"
        },
        "id": "5qwfiCrDgHz1",
        "outputId": "e15345fb-1c9b-482e-8430-ffa63321e287"
      },
      "source": [
        "model.load_state_dict(torch.load('eng2german-model.pt'))\r\n",
        "\r\n",
        "test_loss = evaluate(model, test_iterator, criterion)\r\n",
        "\r\n",
        "print(f'| Test Loss: {test_loss:.3f} | Test PPL: {math.exp(test_loss):7.3f} |')"
      ],
      "execution_count": 31,
      "outputs": [
        {
          "output_type": "stream",
          "text": [
            "| Test Loss: 2.952 | Test PPL:  19.153 |\n"
          ],
          "name": "stdout"
        }
      ]
    }
  ]
}
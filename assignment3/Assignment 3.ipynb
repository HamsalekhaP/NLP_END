{
 "cells": [
  {
   "cell_type": "code",
   "execution_count": 1,
   "metadata": {},
   "outputs": [],
   "source": [
    "import math\n",
    "from functools import reduce\n",
    "import numpy as np"
   ]
  },
  {
   "cell_type": "markdown",
   "metadata": {},
   "source": [
    "### Q1. Write a function using only list filter lambda that can tell whether a number is a Fibonacci number or not. You can use a pre-calculated list/dict to store fab numbers till 10000"
   ]
  },
  {
   "cell_type": "code",
   "execution_count": 2,
   "metadata": {},
   "outputs": [
    {
     "name": "stdout",
     "output_type": "stream",
     "text": [
      "fibonacci numbers upto 10000: [0, 1, 1, 2, 3, 5, 8, 13, 21, 34, 55, 89, 144, 233, 377, 610, 987, 1597, 2584, 4181, 6765]\n",
      "Filtered list of fibonacci numbers: [1, 2, 3, 5]\n"
     ]
    }
   ],
   "source": [
    "fib_list=[0,1]\n",
    "\n",
    "while True:\n",
    "    fib_num =fib_list[-1] + fib_list[-2]\n",
    "    if fib_num>10000:\n",
    "      break  \n",
    "    fib_list.append(fib_num)\n",
    "\n",
    "print(f'fibonacci numbers upto 10000: {fib_list}')\n",
    "test_num=[1,2,3,4,5,6,7]\n",
    "\n",
    "def checkIfFib(num_list):\n",
    "    return list(filter(lambda num : num in fib_list, num_list))\n",
    "\n",
    "print(f'Filtered list of fibonacci numbers: {checkIfFib(test_num)}')\n",
    "        "
   ]
  },
  {
   "cell_type": "markdown",
   "metadata": {},
   "source": [
    "### Q2. Using list comprehension (and zip/lambda/etc if required) write five different expressions that: PTS:100\n",
    "    add 2 iterables a and b such that a is even and b is odd\n",
    "    acts like a ReLU function for a 1D array\n",
    "    acts like a sigmoid function for a 1D array\n",
    "    takes a small character string and shifts all characters by 5 (handle boundary conditions) tsai>>yxfn"
   ]
  },
  {
   "cell_type": "markdown",
   "metadata": {},
   "source": [
    "#### add 2 iterables a and b such that a is even and b is odd"
   ]
  },
  {
   "cell_type": "code",
   "execution_count": 3,
   "metadata": {},
   "outputs": [
    {
     "data": {
      "text/plain": [
       "[13, 17, 21, 25]"
      ]
     },
     "execution_count": 3,
     "metadata": {},
     "output_type": "execute_result"
    }
   ],
   "source": [
    "a=[1,2,3,4,5,6,7,8,9]\n",
    "b=[10,11,12,13,14,15,16,17,18]\n",
    "# filter out odd and even numbers from the two arrays, zip them and apply sum function to each tuple\n",
    "list(map(lambda z: z[0]+z[1], zip(filter(lambda x: x% 2 == 0, a),filter(lambda x: x% 2 == 1 , b) )))"
   ]
  },
  {
   "cell_type": "markdown",
   "metadata": {},
   "source": [
    "####  strips every vowel from a string provided (tsai>>t s)"
   ]
  },
  {
   "cell_type": "code",
   "execution_count": 4,
   "metadata": {},
   "outputs": [
    {
     "name": "stdout",
     "output_type": "stream",
     "text": [
      "How are you today? >>>> Hw r y tdy?\n"
     ]
    }
   ],
   "source": [
    "string_with_vowel='How are you today?'\n",
    "\n",
    "def stripVowel(s):\n",
    "    string_without_vowels= [i for i in s if i not in ['a','e','i','o','u']]\n",
    "    return ''.join(string_without_vowels)\n",
    "\n",
    "print(f'{string_with_vowel} >>>> {stripVowel(string_with_vowel)}')\n"
   ]
  },
  {
   "cell_type": "markdown",
   "metadata": {},
   "source": [
    "#### acts like a ReLU function for a 1D array"
   ]
  },
  {
   "cell_type": "code",
   "execution_count": 5,
   "metadata": {},
   "outputs": [
    {
     "data": {
      "text/plain": [
       "[2, 0, 6, 8, 9, 0]"
      ]
     },
     "execution_count": 5,
     "metadata": {},
     "output_type": "execute_result"
    }
   ],
   "source": [
    "arr=[2,-5,6,8,9,-8]\n",
    "\n",
    "list(map(lambda x: max(0,x), arr))"
   ]
  },
  {
   "cell_type": "markdown",
   "metadata": {},
   "source": [
    "#### acts like a sigmoid function for a 1D array"
   ]
  },
  {
   "cell_type": "code",
   "execution_count": 6,
   "metadata": {},
   "outputs": [
    {
     "data": {
      "text/plain": [
       "[0.8807970779778824,\n",
       " 0.006692850924284856,\n",
       " 0.9975273768433652,\n",
       " 0.9996646498695335,\n",
       " 0.9998766054240138,\n",
       " 0.00033535013046647816]"
      ]
     },
     "execution_count": 6,
     "metadata": {},
     "output_type": "execute_result"
    }
   ],
   "source": [
    "list(map(lambda x: math.exp(x)/(1+math.exp(x)), arr))"
   ]
  },
  {
   "cell_type": "markdown",
   "metadata": {},
   "source": [
    "#### takes a small character string and shifts all characters by 5 (handle boundary conditions) tsai>>yxfn"
   ]
  },
  {
   "cell_type": "code",
   "execution_count": 7,
   "metadata": {},
   "outputs": [
    {
     "name": "stdout",
     "output_type": "stream",
     "text": [
      "Shifted String: tsaiy >>>>> yxfnd\n"
     ]
    }
   ],
   "source": [
    "string_to_rot='tsaiy'\n",
    "num_to_rot=5\n",
    "def rotChar(strng:str,c:str):\n",
    "    try:\n",
    "        # ord of a string will throw error, use this to satisfy the first iteration of reduce function\n",
    "        return chr(ord(strng)+num_to_rot) + chr(ord(c)+num_to_rot)\n",
    "    except:\n",
    "        ''' check boundary condition: if the ord of shifted character goes beyond 'z', start from 'a', \n",
    "        else simply add the number of shifts and\n",
    "        '''\n",
    "        if ord(c) + num_to_rot > ord('z'):\n",
    "            x= ord('a') + ((ord(c)+num_to_rot-1) % ord('z'))\n",
    "        else:\n",
    "            x= ord(c) + num_to_rot\n",
    "        return strng + chr(x)\n",
    "\n",
    "\n",
    "print(f'Shifted String: {string_to_rot} >>>>> {reduce(rotChar, string_to_rot)}')\n"
   ]
  },
  {
   "cell_type": "markdown",
   "metadata": {},
   "source": [
    "###  Q3. A list comprehension expression that takes a ~200 word paragraph (write your own paragraph to check), and checks whether it has any of the swear words mentioned in https://github.com/RobertJGabriel/Google-profanity-words/blob/master/list.txt PTS:200\n"
   ]
  },
  {
   "cell_type": "code",
   "execution_count": 8,
   "metadata": {},
   "outputs": [
    {
     "name": "stdout",
     "output_type": "stream",
     "text": [
      "True\n"
     ]
    }
   ],
   "source": [
    "\n",
    "my_para=\"Interestingly, God is in the list of swear words\".split(' ')\n",
    "file = open(\"swear-list.txt\",\"r\")\n",
    "swear_words= file.read().split('\\n')\n",
    "\n",
    "print(sum(list(map(lambda w: w in swear_words,my_para)))>0)\n"
   ]
  },
  {
   "cell_type": "markdown",
   "metadata": {},
   "source": [
    "### Q4. Using reduce functions: PTS:100\n",
    "    add only even numbers in a list\n",
    "    find the biggest character in a string (printable ascii characters)\n",
    "    adds every 3rd number in a list"
   ]
  },
  {
   "cell_type": "markdown",
   "metadata": {},
   "source": [
    "#### add only even numbers in a list"
   ]
  },
  {
   "cell_type": "code",
   "execution_count": 9,
   "metadata": {},
   "outputs": [
    {
     "name": "stdout",
     "output_type": "stream",
     "text": [
      "Sum of even numbers in list: 30\n"
     ]
    }
   ],
   "source": [
    "nums=[2,3,4,5,6,7,8,9,10]\n",
    "# check if number is even, add to carried over sum and return as first item in the next iteration of reduce function\n",
    "print(f'Sum of even numbers in list: {reduce(lambda x,y:  x+y if y %2==0 else x, nums)}')"
   ]
  },
  {
   "cell_type": "markdown",
   "metadata": {},
   "source": [
    "#### find the biggest character in a string (printable ascii characters)"
   ]
  },
  {
   "cell_type": "code",
   "execution_count": 10,
   "metadata": {},
   "outputs": [
    {
     "data": {
      "text/plain": [
       "122"
      ]
     },
     "execution_count": 10,
     "metadata": {},
     "output_type": "execute_result"
    }
   ],
   "source": [
    "# at each iteration, return the max of current ascii value and the max ascii upto previous iteration that was carried over\n",
    "\n",
    "reduce(lambda x,y: max(x,ord(y)) if isinstance(x,int) else max(ord(x),ord(y)), 'abcdxyzEFGXYZ$%&78')\n"
   ]
  },
  {
   "cell_type": "markdown",
   "metadata": {},
   "source": [
    "#### adds every 3rd number in a list"
   ]
  },
  {
   "cell_type": "code",
   "execution_count": 11,
   "metadata": {},
   "outputs": [
    {
     "name": "stdout",
     "output_type": "stream",
     "text": [
      "sum of every 3rd element: 3\n"
     ]
    }
   ],
   "source": [
    "list_34 = [1,2,1,4,5,1]\n",
    "\n",
    "\n",
    "print(f'sum of every 3rd element: \\\n",
    "{reduce(lambda a, b: (_, a[1] + b[1]) if (b[0]+1) % 3 == 0 else a, enumerate(list_34))[1]}')\n"
   ]
  },
  {
   "cell_type": "markdown",
   "metadata": {},
   "source": [
    "### Q5. Using randint, random.choice and list comprehensions, write an expression that generates 15 random KADDAADDDD number plates, where KA is fixed, D stands for a digit, and A stands for Capital alphabets. 10<<DD<<99 & 1000<<DDDD<<9999 PTS:100\n"
   ]
  },
  {
   "cell_type": "code",
   "execution_count": 12,
   "metadata": {},
   "outputs": [
    {
     "data": {
      "text/plain": [
       "['KA40WI9942',\n",
       " 'KA80KH6152',\n",
       " 'KA65SS9844',\n",
       " 'KA97OL4076',\n",
       " 'KA68NT7636',\n",
       " 'KA77BE6718',\n",
       " 'KA58KQ6657',\n",
       " 'KA82ZB5356',\n",
       " 'KA96DX8348',\n",
       " 'KA48MV9178',\n",
       " 'KA83MI8218',\n",
       " 'KA69PE5394',\n",
       " 'KA13ED7309',\n",
       " 'KA90JE1653',\n",
       " 'KA15XJ9617',\n",
       " 'KA28LE4688']"
      ]
     },
     "execution_count": 12,
     "metadata": {},
     "output_type": "execute_result"
    }
   ],
   "source": [
    "import random\n",
    "import string\n",
    "\n",
    "['KA'+ str(random.randint(10,99)) + \\\n",
    " random.choice(string.ascii_uppercase) + \\\n",
    " chr(random.randint(65, 90)) + \\\n",
    " str(random.randint(1000,9999)) for i in range(16)]"
   ]
  },
  {
   "cell_type": "markdown",
   "metadata": {},
   "source": [
    "### Q6. Write the above again from scratch where KA can be changed to DL, and 1000/9999 ranges can be provided.  PTS:100"
   ]
  },
  {
   "cell_type": "code",
   "execution_count": 14,
   "metadata": {},
   "outputs": [
    {
     "data": {
      "text/plain": [
       "['DL24XW9576',\n",
       " 'DL75OO9973',\n",
       " 'DL61BD5750',\n",
       " 'DL90RW1556',\n",
       " 'DL70DH6054',\n",
       " 'DL20EB1817',\n",
       " 'DL22VI0916',\n",
       " 'DL33QH8777',\n",
       " 'DL37QK8548',\n",
       " 'DL31OK0882',\n",
       " 'DL61OM4561',\n",
       " 'DL91VT7606',\n",
       " 'DL81HM1214',\n",
       " 'DL37CG8946',\n",
       " 'DL65YT6113',\n",
       " 'DL56GX1011']"
      ]
     },
     "execution_count": 14,
     "metadata": {},
     "output_type": "execute_result"
    }
   ],
   "source": [
    "lower=0\n",
    "upper=9999\n",
    "code='DL'\n",
    "\n",
    "[code + str(random.randint(10,99)) + \\\n",
    " random.choice(string.ascii_uppercase) + \\\n",
    " chr(random.randint(65, 90)) + \\\n",
    " str(random.randint(lower,upper)).zfill(4) for i in range(16)]\n",
    "\n"
   ]
  }
 ],
 "metadata": {
  "kernelspec": {
   "display_name": "Python 3",
   "language": "python",
   "name": "python3"
  },
  "language_info": {
   "codemirror_mode": {
    "name": "ipython",
    "version": 3
   },
   "file_extension": ".py",
   "mimetype": "text/x-python",
   "name": "python",
   "nbconvert_exporter": "python",
   "pygments_lexer": "ipython3",
   "version": "3.7.3"
  }
 },
 "nbformat": 4,
 "nbformat_minor": 4
}
